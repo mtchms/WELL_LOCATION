{
 "cells": [
  {
   "cell_type": "markdown",
   "metadata": {},
   "source": [
    "# Выбор локации для скважины"
   ]
  },
  {
   "cell_type": "markdown",
   "metadata": {},
   "source": [
    "\n",
    "Предоставлены пробы нефти в трёх регионах: в каждом 10 000 месторождений, где измерили качество нефти и объём её запасов. Постройте модель машинного обучения, которая поможет определить регион, где добыча принесёт наибольшую прибыль. Проанализировать возможную прибыль и риски техникой *Bootstrap.*\n",
    "\n",
    "Шаги для выбора локации:\n",
    "\n",
    "- В избранном регионе ищут месторождения, для каждого определяют значения признаков;\n",
    "- Строят модель и оценивают объём запасов;\n",
    "- Выбирают месторождения с самым высокими оценками значений. Количество месторождений зависит от бюджета компании и стоимости разработки одной скважины;\n",
    "- Прибыль равна суммарной прибыли отобранных месторождений."
   ]
  },
  {
   "cell_type": "markdown",
   "metadata": {},
   "source": [
    "# План работы:\n",
    "\n",
    "1. Загрузить и подготовить данные. Пояснить порядок действий.\n",
    "1. Обучить и проверить модель для каждого региона:\n",
    "    - 2.1. Разбить данные на обучающую и валидационную выборки в соотношении 75:25.\n",
    "    - 2.2. Обучить модель и сделайте предсказания на валидационной выборке.\n",
    "    - 2.3. Сохранить предсказания и правильные ответы на валидационной выборке.\n",
    "    - 2.4. Напечатать на экране средний запас предсказанного сырья и RMSE модели.\n",
    "    - 2.5. Проанализировать результаты.\n",
    "3. Подготовиться к расчёту прибыли:\n",
    "    - 3.1. Все ключевые значения для расчётов сохранить в отдельных переменных.\n",
    "    - 3.2. Рассчитать достаточный объём сырья для безубыточной разработки новой скважины. Сравнить полученный объём сырья со средним запасом в каждом регионе. \n",
    "    - 3.3. Написать выводы по этапу подготовки расчёта прибыли.\n",
    "4. Написать функцию для расчёта прибыли по выбранным скважинам и предсказаниям модели:\n",
    "    - 4.1. Выбрать скважины с максимальными значениями предсказаний. \n",
    "    - 4.2. Просуммировать целевое значение объёма сырья, соответствующее этим предсказаниям.\n",
    "    - 4.3. Рассчитать прибыль для полученного объёма сырья.\n",
    "5. Посчитать риски и прибыль для каждого региона:\n",
    "    - 5.1. Применить технику Bootstrap с 1000 выборок, чтобы найти распределение прибыли.\n",
    "    - 5.2. Найти среднюю прибыль, 95%-й доверительный интервал и риск убытков. Убыток — это отрицательная прибыль.\n",
    "    - 5.3. Написать выводы: предложить регион для разработки скважин и обосновать выбор."
   ]
  },
  {
   "cell_type": "markdown",
   "metadata": {},
   "source": [
    "## Загрузка и подготовка данных"
   ]
  },
  {
   "cell_type": "code",
   "execution_count": 1,
   "metadata": {},
   "outputs": [],
   "source": [
    "!pip install -q phik"
   ]
  },
  {
   "cell_type": "code",
   "execution_count": 2,
   "metadata": {},
   "outputs": [],
   "source": [
    "import scipy\n",
    "import pandas as pd\n",
    "import matplotlib.pyplot as plt\n",
    "import warnings\n",
    "import numpy as np\n",
    "import phik\n",
    "import seaborn as sns\n",
    "import pandas as pd\n",
    "import sklearn as sk\n",
    "from sklearn.model_selection import train_test_split\n",
    "from sklearn.pipeline import Pipeline\n",
    "from sklearn.preprocessing import OneHotEncoder, OrdinalEncoder, StandardScaler, MinMaxScaler, RobustScaler\n",
    "from sklearn.compose import ColumnTransformer\n",
    "from sklearn.impute import SimpleImputer\n",
    "from sklearn.metrics import roc_auc_score, make_scorer\n",
    "from sklearn.model_selection import GridSearchCV\n",
    "from sklearn.linear_model import LinearRegression\n",
    "from sklearn.tree import DecisionTreeRegressor\n",
    "from warnings import simplefilter\n",
    "from sklearn.preprocessing import LabelEncoder\n",
    "from sklearn.linear_model import LogisticRegression\n",
    "from sklearn.neighbors import KNeighborsClassifier\n",
    "from sklearn.tree import DecisionTreeClassifier\n",
    "from sklearn.model_selection import RandomizedSearchCV\n",
    "import phik\n",
    "import warnings\n",
    "from sklearn.metrics import r2_score\n",
    "from sklearn.metrics import mean_squared_error"
   ]
  },
  {
   "cell_type": "code",
   "execution_count": 3,
   "metadata": {},
   "outputs": [],
   "source": [
    "warnings.filterwarnings(\"ignore\")"
   ]
  },
  {
   "cell_type": "markdown",
   "metadata": {},
   "source": [
    "Загружу данные и просмотрю их."
   ]
  },
  {
   "cell_type": "code",
   "execution_count": 4,
   "metadata": {},
   "outputs": [],
   "source": [
    "geo_data_0 = pd.read_csv('/datasets/geo_data_0.csv', sep=',', decimal = ',')\n",
    "geo_data_1 = pd.read_csv('/datasets/geo_data_1.csv', sep=',', decimal = ',')\n",
    "geo_data_2 = pd.read_csv('/datasets/geo_data_2.csv', sep=',', decimal = ',')"
   ]
  },
  {
   "cell_type": "code",
   "execution_count": 5,
   "metadata": {},
   "outputs": [],
   "source": [
    "data_list = [geo_data_0, geo_data_1, geo_data_2]"
   ]
  },
  {
   "cell_type": "code",
   "execution_count": 6,
   "metadata": {},
   "outputs": [],
   "source": [
    "data_list_txt = ['geo_data_0', 'geo_data_1', 'geo_data_2']"
   ]
  },
  {
   "cell_type": "code",
   "execution_count": 7,
   "metadata": {},
   "outputs": [],
   "source": [
    "def data_head(data_list):\n",
    "    for i in data_list:\n",
    "        display(i.head(10))\n",
    "\n",
    "        \n",
    "def data_info(data_list):\n",
    "    for i in data_list:\n",
    "        display(i.info())\n",
    "\n",
    "        \n",
    "def data_shape(data_list):\n",
    "    for i in data_list:\n",
    "        display(i.shape)"
   ]
  },
  {
   "cell_type": "code",
   "execution_count": 8,
   "metadata": {},
   "outputs": [
    {
     "data": {
      "text/html": [
       "<div>\n",
       "<style scoped>\n",
       "    .dataframe tbody tr th:only-of-type {\n",
       "        vertical-align: middle;\n",
       "    }\n",
       "\n",
       "    .dataframe tbody tr th {\n",
       "        vertical-align: top;\n",
       "    }\n",
       "\n",
       "    .dataframe thead th {\n",
       "        text-align: right;\n",
       "    }\n",
       "</style>\n",
       "<table border=\"1\" class=\"dataframe\">\n",
       "  <thead>\n",
       "    <tr style=\"text-align: right;\">\n",
       "      <th></th>\n",
       "      <th>id</th>\n",
       "      <th>f0</th>\n",
       "      <th>f1</th>\n",
       "      <th>f2</th>\n",
       "      <th>product</th>\n",
       "    </tr>\n",
       "  </thead>\n",
       "  <tbody>\n",
       "    <tr>\n",
       "      <th>0</th>\n",
       "      <td>txEyH</td>\n",
       "      <td>0.7057449842080644</td>\n",
       "      <td>-0.4978225001976334</td>\n",
       "      <td>1.22116994843607</td>\n",
       "      <td>105.28006184349583</td>\n",
       "    </tr>\n",
       "    <tr>\n",
       "      <th>1</th>\n",
       "      <td>2acmU</td>\n",
       "      <td>1.3347112926051892</td>\n",
       "      <td>-0.3401642528583136</td>\n",
       "      <td>4.3650803324282</td>\n",
       "      <td>73.03775026515737</td>\n",
       "    </tr>\n",
       "    <tr>\n",
       "      <th>2</th>\n",
       "      <td>409Wp</td>\n",
       "      <td>1.0227322634721168</td>\n",
       "      <td>0.15199044457022945</td>\n",
       "      <td>1.4199262386740652</td>\n",
       "      <td>85.26564713099945</td>\n",
       "    </tr>\n",
       "    <tr>\n",
       "      <th>3</th>\n",
       "      <td>iJLyR</td>\n",
       "      <td>-0.03217162450743976</td>\n",
       "      <td>0.13903270818447744</td>\n",
       "      <td>2.9785659663204838</td>\n",
       "      <td>168.62077555509563</td>\n",
       "    </tr>\n",
       "    <tr>\n",
       "      <th>4</th>\n",
       "      <td>Xdl7t</td>\n",
       "      <td>1.988431059439699</td>\n",
       "      <td>0.15541267777667178</td>\n",
       "      <td>4.751769119262962</td>\n",
       "      <td>154.03664673738086</td>\n",
       "    </tr>\n",
       "    <tr>\n",
       "      <th>5</th>\n",
       "      <td>wX4Hy</td>\n",
       "      <td>0.969570398523496</td>\n",
       "      <td>0.4897745183978062</td>\n",
       "      <td>-0.7353830513108188</td>\n",
       "      <td>64.74154054955916</td>\n",
       "    </tr>\n",
       "    <tr>\n",
       "      <th>6</th>\n",
       "      <td>tL6pL</td>\n",
       "      <td>0.6450753012816539</td>\n",
       "      <td>0.5306555646164384</td>\n",
       "      <td>1.7802659748244345</td>\n",
       "      <td>49.055285490489865</td>\n",
       "    </tr>\n",
       "    <tr>\n",
       "      <th>7</th>\n",
       "      <td>BYPU6</td>\n",
       "      <td>-0.4006482010652971</td>\n",
       "      <td>0.8083366931319449</td>\n",
       "      <td>-5.624669549319089</td>\n",
       "      <td>72.94329245802855</td>\n",
       "    </tr>\n",
       "    <tr>\n",
       "      <th>8</th>\n",
       "      <td>j9Oui</td>\n",
       "      <td>0.6431053405578971</td>\n",
       "      <td>-0.5515830378045372</td>\n",
       "      <td>2.3721408323522053</td>\n",
       "      <td>113.35615977074353</td>\n",
       "    </tr>\n",
       "    <tr>\n",
       "      <th>9</th>\n",
       "      <td>OLuZU</td>\n",
       "      <td>2.173381279570848</td>\n",
       "      <td>0.5636983972100131</td>\n",
       "      <td>9.441852185274016</td>\n",
       "      <td>127.91094482981194</td>\n",
       "    </tr>\n",
       "  </tbody>\n",
       "</table>\n",
       "</div>"
      ],
      "text/plain": [
       "      id                    f0                   f1                   f2  \\\n",
       "0  txEyH    0.7057449842080644  -0.4978225001976334     1.22116994843607   \n",
       "1  2acmU    1.3347112926051892  -0.3401642528583136      4.3650803324282   \n",
       "2  409Wp    1.0227322634721168  0.15199044457022945   1.4199262386740652   \n",
       "3  iJLyR  -0.03217162450743976  0.13903270818447744   2.9785659663204838   \n",
       "4  Xdl7t     1.988431059439699  0.15541267777667178    4.751769119262962   \n",
       "5  wX4Hy     0.969570398523496   0.4897745183978062  -0.7353830513108188   \n",
       "6  tL6pL    0.6450753012816539   0.5306555646164384   1.7802659748244345   \n",
       "7  BYPU6   -0.4006482010652971   0.8083366931319449   -5.624669549319089   \n",
       "8  j9Oui    0.6431053405578971  -0.5515830378045372   2.3721408323522053   \n",
       "9  OLuZU     2.173381279570848   0.5636983972100131    9.441852185274016   \n",
       "\n",
       "              product  \n",
       "0  105.28006184349583  \n",
       "1   73.03775026515737  \n",
       "2   85.26564713099945  \n",
       "3  168.62077555509563  \n",
       "4  154.03664673738086  \n",
       "5   64.74154054955916  \n",
       "6  49.055285490489865  \n",
       "7   72.94329245802855  \n",
       "8  113.35615977074353  \n",
       "9  127.91094482981194  "
      ]
     },
     "metadata": {},
     "output_type": "display_data"
    },
    {
     "data": {
      "text/html": [
       "<div>\n",
       "<style scoped>\n",
       "    .dataframe tbody tr th:only-of-type {\n",
       "        vertical-align: middle;\n",
       "    }\n",
       "\n",
       "    .dataframe tbody tr th {\n",
       "        vertical-align: top;\n",
       "    }\n",
       "\n",
       "    .dataframe thead th {\n",
       "        text-align: right;\n",
       "    }\n",
       "</style>\n",
       "<table border=\"1\" class=\"dataframe\">\n",
       "  <thead>\n",
       "    <tr style=\"text-align: right;\">\n",
       "      <th></th>\n",
       "      <th>id</th>\n",
       "      <th>f0</th>\n",
       "      <th>f1</th>\n",
       "      <th>f2</th>\n",
       "      <th>product</th>\n",
       "    </tr>\n",
       "  </thead>\n",
       "  <tbody>\n",
       "    <tr>\n",
       "      <th>0</th>\n",
       "      <td>kBEdx</td>\n",
       "      <td>-15.00134818249185</td>\n",
       "      <td>-8.275999947188001</td>\n",
       "      <td>-0.005876013693320655</td>\n",
       "      <td>3.179102583207246</td>\n",
       "    </tr>\n",
       "    <tr>\n",
       "      <th>1</th>\n",
       "      <td>62mP7</td>\n",
       "      <td>14.272087811011147</td>\n",
       "      <td>-3.47508321506002</td>\n",
       "      <td>0.9991827365665829</td>\n",
       "      <td>26.95326103153969</td>\n",
       "    </tr>\n",
       "    <tr>\n",
       "      <th>2</th>\n",
       "      <td>vyE1P</td>\n",
       "      <td>6.263187352448809</td>\n",
       "      <td>-5.948385788285711</td>\n",
       "      <td>5.001160160764809</td>\n",
       "      <td>134.76630515769844</td>\n",
       "    </tr>\n",
       "    <tr>\n",
       "      <th>3</th>\n",
       "      <td>KcrkZ</td>\n",
       "      <td>-13.081196289023516</td>\n",
       "      <td>-11.506056864519605</td>\n",
       "      <td>4.999414898074921</td>\n",
       "      <td>137.94540774090564</td>\n",
       "    </tr>\n",
       "    <tr>\n",
       "      <th>4</th>\n",
       "      <td>AHL4O</td>\n",
       "      <td>12.702194885533585</td>\n",
       "      <td>-8.147433374146587</td>\n",
       "      <td>5.00436255224226</td>\n",
       "      <td>134.76630515769844</td>\n",
       "    </tr>\n",
       "    <tr>\n",
       "      <th>5</th>\n",
       "      <td>HHckp</td>\n",
       "      <td>-3.3275901143079354</td>\n",
       "      <td>-2.205275798023435</td>\n",
       "      <td>3.0036473367334318</td>\n",
       "      <td>84.03888567782631</td>\n",
       "    </tr>\n",
       "    <tr>\n",
       "      <th>6</th>\n",
       "      <td>h5Ujo</td>\n",
       "      <td>-11.142655028645574</td>\n",
       "      <td>-10.133398707798056</td>\n",
       "      <td>4.002381900008468</td>\n",
       "      <td>110.992146709366</td>\n",
       "    </tr>\n",
       "    <tr>\n",
       "      <th>7</th>\n",
       "      <td>muH9x</td>\n",
       "      <td>4.234715275449195</td>\n",
       "      <td>-0.001353939742481991</td>\n",
       "      <td>2.0045880813242647</td>\n",
       "      <td>53.90652206307938</td>\n",
       "    </tr>\n",
       "    <tr>\n",
       "      <th>8</th>\n",
       "      <td>YiRkx</td>\n",
       "      <td>13.355129034660687</td>\n",
       "      <td>-0.332068237721002</td>\n",
       "      <td>4.998647036417582</td>\n",
       "      <td>134.76630515769844</td>\n",
       "    </tr>\n",
       "    <tr>\n",
       "      <th>9</th>\n",
       "      <td>jG6Gi</td>\n",
       "      <td>1.0692274148968526</td>\n",
       "      <td>-11.025667196905854</td>\n",
       "      <td>4.997843556927724</td>\n",
       "      <td>137.94540774090564</td>\n",
       "    </tr>\n",
       "  </tbody>\n",
       "</table>\n",
       "</div>"
      ],
      "text/plain": [
       "      id                   f0                     f1                     f2  \\\n",
       "0  kBEdx   -15.00134818249185     -8.275999947188001  -0.005876013693320655   \n",
       "1  62mP7   14.272087811011147      -3.47508321506002     0.9991827365665829   \n",
       "2  vyE1P    6.263187352448809     -5.948385788285711      5.001160160764809   \n",
       "3  KcrkZ  -13.081196289023516    -11.506056864519605      4.999414898074921   \n",
       "4  AHL4O   12.702194885533585     -8.147433374146587       5.00436255224226   \n",
       "5  HHckp  -3.3275901143079354     -2.205275798023435     3.0036473367334318   \n",
       "6  h5Ujo  -11.142655028645574    -10.133398707798056      4.002381900008468   \n",
       "7  muH9x    4.234715275449195  -0.001353939742481991     2.0045880813242647   \n",
       "8  YiRkx   13.355129034660687     -0.332068237721002      4.998647036417582   \n",
       "9  jG6Gi   1.0692274148968526    -11.025667196905854      4.997843556927724   \n",
       "\n",
       "              product  \n",
       "0   3.179102583207246  \n",
       "1   26.95326103153969  \n",
       "2  134.76630515769844  \n",
       "3  137.94540774090564  \n",
       "4  134.76630515769844  \n",
       "5   84.03888567782631  \n",
       "6    110.992146709366  \n",
       "7   53.90652206307938  \n",
       "8  134.76630515769844  \n",
       "9  137.94540774090564  "
      ]
     },
     "metadata": {},
     "output_type": "display_data"
    },
    {
     "data": {
      "text/html": [
       "<div>\n",
       "<style scoped>\n",
       "    .dataframe tbody tr th:only-of-type {\n",
       "        vertical-align: middle;\n",
       "    }\n",
       "\n",
       "    .dataframe tbody tr th {\n",
       "        vertical-align: top;\n",
       "    }\n",
       "\n",
       "    .dataframe thead th {\n",
       "        text-align: right;\n",
       "    }\n",
       "</style>\n",
       "<table border=\"1\" class=\"dataframe\">\n",
       "  <thead>\n",
       "    <tr style=\"text-align: right;\">\n",
       "      <th></th>\n",
       "      <th>id</th>\n",
       "      <th>f0</th>\n",
       "      <th>f1</th>\n",
       "      <th>f2</th>\n",
       "      <th>product</th>\n",
       "    </tr>\n",
       "  </thead>\n",
       "  <tbody>\n",
       "    <tr>\n",
       "      <th>0</th>\n",
       "      <td>fwXo0</td>\n",
       "      <td>-1.1469870984179529</td>\n",
       "      <td>0.9633279217162892</td>\n",
       "      <td>-0.8289649221710994</td>\n",
       "      <td>27.758673230730036</td>\n",
       "    </tr>\n",
       "    <tr>\n",
       "      <th>1</th>\n",
       "      <td>WJtFt</td>\n",
       "      <td>0.2627779016539684</td>\n",
       "      <td>0.2698389572803021</td>\n",
       "      <td>-2.530186515492004</td>\n",
       "      <td>56.06969663239464</td>\n",
       "    </tr>\n",
       "    <tr>\n",
       "      <th>2</th>\n",
       "      <td>ovLUW</td>\n",
       "      <td>0.19458728165865746</td>\n",
       "      <td>0.2890350017576741</td>\n",
       "      <td>-5.586432770903118</td>\n",
       "      <td>62.87191004763475</td>\n",
       "    </tr>\n",
       "    <tr>\n",
       "      <th>3</th>\n",
       "      <td>q6cA6</td>\n",
       "      <td>2.2360596126935817</td>\n",
       "      <td>-0.5537598999099264</td>\n",
       "      <td>0.930037615920042</td>\n",
       "      <td>114.57284166750858</td>\n",
       "    </tr>\n",
       "    <tr>\n",
       "      <th>4</th>\n",
       "      <td>WPMUX</td>\n",
       "      <td>-0.5159928644136754</td>\n",
       "      <td>1.7162655596688288</td>\n",
       "      <td>5.899011469346728</td>\n",
       "      <td>149.60074591275887</td>\n",
       "    </tr>\n",
       "    <tr>\n",
       "      <th>5</th>\n",
       "      <td>LzZXx</td>\n",
       "      <td>-0.7580918899979295</td>\n",
       "      <td>0.7106911177603382</td>\n",
       "      <td>2.5858867141816897</td>\n",
       "      <td>90.22246490212144</td>\n",
       "    </tr>\n",
       "    <tr>\n",
       "      <th>6</th>\n",
       "      <td>WBHRv</td>\n",
       "      <td>-0.5748912438077884</td>\n",
       "      <td>0.3177265635483666</td>\n",
       "      <td>1.7737447474350394</td>\n",
       "      <td>45.64147802212778</td>\n",
       "    </tr>\n",
       "    <tr>\n",
       "      <th>7</th>\n",
       "      <td>XO8fn</td>\n",
       "      <td>-1.9066490402342755</td>\n",
       "      <td>-2.458350352494145</td>\n",
       "      <td>-0.17709734827158696</td>\n",
       "      <td>72.48063984159316</td>\n",
       "    </tr>\n",
       "    <tr>\n",
       "      <th>8</th>\n",
       "      <td>ybmQ5</td>\n",
       "      <td>1.7762915116273206</td>\n",
       "      <td>-0.2793559343775369</td>\n",
       "      <td>3.0041564713796984</td>\n",
       "      <td>106.61683168368128</td>\n",
       "    </tr>\n",
       "    <tr>\n",
       "      <th>9</th>\n",
       "      <td>OilcN</td>\n",
       "      <td>-1.2144524766503704</td>\n",
       "      <td>-0.4393143656335734</td>\n",
       "      <td>5.922514025411184</td>\n",
       "      <td>52.954531972842304</td>\n",
       "    </tr>\n",
       "  </tbody>\n",
       "</table>\n",
       "</div>"
      ],
      "text/plain": [
       "      id                   f0                   f1                    f2  \\\n",
       "0  fwXo0  -1.1469870984179529   0.9633279217162892   -0.8289649221710994   \n",
       "1  WJtFt   0.2627779016539684   0.2698389572803021    -2.530186515492004   \n",
       "2  ovLUW  0.19458728165865746   0.2890350017576741    -5.586432770903118   \n",
       "3  q6cA6   2.2360596126935817  -0.5537598999099264     0.930037615920042   \n",
       "4  WPMUX  -0.5159928644136754   1.7162655596688288     5.899011469346728   \n",
       "5  LzZXx  -0.7580918899979295   0.7106911177603382    2.5858867141816897   \n",
       "6  WBHRv  -0.5748912438077884   0.3177265635483666    1.7737447474350394   \n",
       "7  XO8fn  -1.9066490402342755   -2.458350352494145  -0.17709734827158696   \n",
       "8  ybmQ5   1.7762915116273206  -0.2793559343775369    3.0041564713796984   \n",
       "9  OilcN  -1.2144524766503704  -0.4393143656335734     5.922514025411184   \n",
       "\n",
       "              product  \n",
       "0  27.758673230730036  \n",
       "1   56.06969663239464  \n",
       "2   62.87191004763475  \n",
       "3  114.57284166750858  \n",
       "4  149.60074591275887  \n",
       "5   90.22246490212144  \n",
       "6   45.64147802212778  \n",
       "7   72.48063984159316  \n",
       "8  106.61683168368128  \n",
       "9  52.954531972842304  "
      ]
     },
     "metadata": {},
     "output_type": "display_data"
    }
   ],
   "source": [
    "data_head(data_list)"
   ]
  },
  {
   "cell_type": "code",
   "execution_count": 9,
   "metadata": {},
   "outputs": [
    {
     "name": "stdout",
     "output_type": "stream",
     "text": [
      "<class 'pandas.core.frame.DataFrame'>\n",
      "RangeIndex: 100000 entries, 0 to 99999\n",
      "Data columns (total 5 columns):\n",
      " #   Column   Non-Null Count   Dtype \n",
      "---  ------   --------------   ----- \n",
      " 0   id       100000 non-null  object\n",
      " 1   f0       100000 non-null  object\n",
      " 2   f1       100000 non-null  object\n",
      " 3   f2       100000 non-null  object\n",
      " 4   product  100000 non-null  object\n",
      "dtypes: object(5)\n",
      "memory usage: 3.8+ MB\n"
     ]
    },
    {
     "data": {
      "text/plain": [
       "None"
      ]
     },
     "metadata": {},
     "output_type": "display_data"
    },
    {
     "name": "stdout",
     "output_type": "stream",
     "text": [
      "<class 'pandas.core.frame.DataFrame'>\n",
      "RangeIndex: 100000 entries, 0 to 99999\n",
      "Data columns (total 5 columns):\n",
      " #   Column   Non-Null Count   Dtype \n",
      "---  ------   --------------   ----- \n",
      " 0   id       100000 non-null  object\n",
      " 1   f0       100000 non-null  object\n",
      " 2   f1       100000 non-null  object\n",
      " 3   f2       100000 non-null  object\n",
      " 4   product  100000 non-null  object\n",
      "dtypes: object(5)\n",
      "memory usage: 3.8+ MB\n"
     ]
    },
    {
     "data": {
      "text/plain": [
       "None"
      ]
     },
     "metadata": {},
     "output_type": "display_data"
    },
    {
     "name": "stdout",
     "output_type": "stream",
     "text": [
      "<class 'pandas.core.frame.DataFrame'>\n",
      "RangeIndex: 100000 entries, 0 to 99999\n",
      "Data columns (total 5 columns):\n",
      " #   Column   Non-Null Count   Dtype \n",
      "---  ------   --------------   ----- \n",
      " 0   id       100000 non-null  object\n",
      " 1   f0       100000 non-null  object\n",
      " 2   f1       100000 non-null  object\n",
      " 3   f2       100000 non-null  object\n",
      " 4   product  100000 non-null  object\n",
      "dtypes: object(5)\n",
      "memory usage: 3.8+ MB\n"
     ]
    },
    {
     "data": {
      "text/plain": [
       "None"
      ]
     },
     "metadata": {},
     "output_type": "display_data"
    }
   ],
   "source": [
    "data_info(data_list)"
   ]
  },
  {
   "cell_type": "code",
   "execution_count": 10,
   "metadata": {},
   "outputs": [
    {
     "data": {
      "text/plain": [
       "(100000, 5)"
      ]
     },
     "metadata": {},
     "output_type": "display_data"
    },
    {
     "data": {
      "text/plain": [
       "(100000, 5)"
      ]
     },
     "metadata": {},
     "output_type": "display_data"
    },
    {
     "data": {
      "text/plain": [
       "(100000, 5)"
      ]
     },
     "metadata": {},
     "output_type": "display_data"
    }
   ],
   "source": [
    "data_shape(data_list)"
   ]
  },
  {
   "cell_type": "markdown",
   "metadata": {},
   "source": [
    "Датасеты достаточно большие, пропусков нет, проверю полные дубликаты и дубликаты по id:"
   ]
  },
  {
   "cell_type": "code",
   "execution_count": 11,
   "metadata": {},
   "outputs": [
    {
     "data": {
      "text/plain": [
       "['geo_data_0', 'geo_data_1', 'geo_data_2']"
      ]
     },
     "execution_count": 11,
     "metadata": {},
     "output_type": "execute_result"
    }
   ],
   "source": [
    "data_list_txt"
   ]
  },
  {
   "cell_type": "code",
   "execution_count": 12,
   "metadata": {},
   "outputs": [
    {
     "name": "stdout",
     "output_type": "stream",
     "text": [
      "Количество дубликатов: 0\n"
     ]
    }
   ],
   "source": [
    "print('Количество дубликатов:', geo_data_0.duplicated().sum())"
   ]
  },
  {
   "cell_type": "code",
   "execution_count": 13,
   "metadata": {},
   "outputs": [
    {
     "name": "stdout",
     "output_type": "stream",
     "text": [
      "Количество дубликатов: 0\n"
     ]
    }
   ],
   "source": [
    "print('Количество дубликатов:', geo_data_1.duplicated().sum())"
   ]
  },
  {
   "cell_type": "code",
   "execution_count": 14,
   "metadata": {},
   "outputs": [
    {
     "name": "stdout",
     "output_type": "stream",
     "text": [
      "Количество дубликатов: 0\n"
     ]
    }
   ],
   "source": [
    "print('Количество дубликатов:', geo_data_2.duplicated().sum())"
   ]
  },
  {
   "cell_type": "code",
   "execution_count": 15,
   "metadata": {},
   "outputs": [
    {
     "data": {
      "text/plain": [
       "10"
      ]
     },
     "execution_count": 15,
     "metadata": {},
     "output_type": "execute_result"
    }
   ],
   "source": [
    "geo_data_0.duplicated(subset='id').sum()"
   ]
  },
  {
   "cell_type": "code",
   "execution_count": 16,
   "metadata": {},
   "outputs": [
    {
     "data": {
      "text/plain": [
       "4"
      ]
     },
     "execution_count": 16,
     "metadata": {},
     "output_type": "execute_result"
    }
   ],
   "source": [
    "geo_data_1.duplicated(subset='id').sum()"
   ]
  },
  {
   "cell_type": "code",
   "execution_count": 17,
   "metadata": {},
   "outputs": [
    {
     "data": {
      "text/plain": [
       "4"
      ]
     },
     "execution_count": 17,
     "metadata": {},
     "output_type": "execute_result"
    }
   ],
   "source": [
    "geo_data_2.duplicated(subset='id').sum()"
   ]
  },
  {
   "cell_type": "markdown",
   "metadata": {},
   "source": [
    "Удалю найденные дубликаты:"
   ]
  },
  {
   "cell_type": "code",
   "execution_count": 18,
   "metadata": {},
   "outputs": [],
   "source": [
    "geo_data_0 = geo_data_0.drop_duplicates(subset=['id'])"
   ]
  },
  {
   "cell_type": "code",
   "execution_count": 19,
   "metadata": {},
   "outputs": [],
   "source": [
    "geo_data_1 = geo_data_1.drop_duplicates(subset=['id'])"
   ]
  },
  {
   "cell_type": "code",
   "execution_count": 20,
   "metadata": {},
   "outputs": [],
   "source": [
    "geo_data_2 = geo_data_2.drop_duplicates(subset=['id'])"
   ]
  },
  {
   "cell_type": "markdown",
   "metadata": {},
   "source": [
    "Изменю типы данных на верные:"
   ]
  },
  {
   "cell_type": "code",
   "execution_count": 21,
   "metadata": {},
   "outputs": [],
   "source": [
    "geo_data_0[['f0', 'f1', 'f2', 'product']] = geo_data_0[['f0', 'f1', 'f2', 'product']].astype('float64')\n",
    "geo_data_1[['f0', 'f1', 'f2', 'product']] = geo_data_1[['f0', 'f1', 'f2', 'product']].astype('float64')\n",
    "geo_data_2[['f0', 'f1', 'f2', 'product']] = geo_data_2[['f0', 'f1', 'f2', 'product']].astype('float64')"
   ]
  },
  {
   "cell_type": "markdown",
   "metadata": {},
   "source": [
    "Исследую данные:"
   ]
  },
  {
   "cell_type": "code",
   "execution_count": 22,
   "metadata": {},
   "outputs": [],
   "source": [
    "features_for_plot = ['f0', 'f1', 'f2', 'product']"
   ]
  },
  {
   "cell_type": "markdown",
   "metadata": {},
   "source": [
    "***geo_data_0***"
   ]
  },
  {
   "cell_type": "code",
   "execution_count": 23,
   "metadata": {},
   "outputs": [
    {
     "data": {
      "text/html": [
       "<div>\n",
       "<style scoped>\n",
       "    .dataframe tbody tr th:only-of-type {\n",
       "        vertical-align: middle;\n",
       "    }\n",
       "\n",
       "    .dataframe tbody tr th {\n",
       "        vertical-align: top;\n",
       "    }\n",
       "\n",
       "    .dataframe thead th {\n",
       "        text-align: right;\n",
       "    }\n",
       "</style>\n",
       "<table border=\"1\" class=\"dataframe\">\n",
       "  <thead>\n",
       "    <tr style=\"text-align: right;\">\n",
       "      <th></th>\n",
       "      <th>f0</th>\n",
       "      <th>f1</th>\n",
       "      <th>f2</th>\n",
       "      <th>product</th>\n",
       "    </tr>\n",
       "  </thead>\n",
       "  <tbody>\n",
       "    <tr>\n",
       "      <th>count</th>\n",
       "      <td>99990.000000</td>\n",
       "      <td>99990.000000</td>\n",
       "      <td>99990.000000</td>\n",
       "      <td>99990.000000</td>\n",
       "    </tr>\n",
       "    <tr>\n",
       "      <th>mean</th>\n",
       "      <td>0.500454</td>\n",
       "      <td>0.250141</td>\n",
       "      <td>2.502629</td>\n",
       "      <td>92.499684</td>\n",
       "    </tr>\n",
       "    <tr>\n",
       "      <th>std</th>\n",
       "      <td>0.871844</td>\n",
       "      <td>0.504430</td>\n",
       "      <td>3.248149</td>\n",
       "      <td>44.288304</td>\n",
       "    </tr>\n",
       "    <tr>\n",
       "      <th>min</th>\n",
       "      <td>-1.408605</td>\n",
       "      <td>-0.848218</td>\n",
       "      <td>-12.088328</td>\n",
       "      <td>0.000000</td>\n",
       "    </tr>\n",
       "    <tr>\n",
       "      <th>25%</th>\n",
       "      <td>-0.072572</td>\n",
       "      <td>-0.200877</td>\n",
       "      <td>0.287784</td>\n",
       "      <td>56.497069</td>\n",
       "    </tr>\n",
       "    <tr>\n",
       "      <th>50%</th>\n",
       "      <td>0.502405</td>\n",
       "      <td>0.250252</td>\n",
       "      <td>2.515969</td>\n",
       "      <td>91.847928</td>\n",
       "    </tr>\n",
       "    <tr>\n",
       "      <th>75%</th>\n",
       "      <td>1.073626</td>\n",
       "      <td>0.700640</td>\n",
       "      <td>4.715035</td>\n",
       "      <td>128.563699</td>\n",
       "    </tr>\n",
       "    <tr>\n",
       "      <th>max</th>\n",
       "      <td>2.362331</td>\n",
       "      <td>1.343769</td>\n",
       "      <td>16.003790</td>\n",
       "      <td>185.364347</td>\n",
       "    </tr>\n",
       "  </tbody>\n",
       "</table>\n",
       "</div>"
      ],
      "text/plain": [
       "                 f0            f1            f2       product\n",
       "count  99990.000000  99990.000000  99990.000000  99990.000000\n",
       "mean       0.500454      0.250141      2.502629     92.499684\n",
       "std        0.871844      0.504430      3.248149     44.288304\n",
       "min       -1.408605     -0.848218    -12.088328      0.000000\n",
       "25%       -0.072572     -0.200877      0.287784     56.497069\n",
       "50%        0.502405      0.250252      2.515969     91.847928\n",
       "75%        1.073626      0.700640      4.715035    128.563699\n",
       "max        2.362331      1.343769     16.003790    185.364347"
      ]
     },
     "execution_count": 23,
     "metadata": {},
     "output_type": "execute_result"
    }
   ],
   "source": [
    "geo_data_0.describe()"
   ]
  },
  {
   "cell_type": "code",
   "execution_count": 24,
   "metadata": {},
   "outputs": [
    {
     "data": {
      "image/png": "[encoded data removed]",
      "text/plain": [
       "<Figure size 1080x720 with 1 Axes>"
      ]
     },
     "metadata": {
      "needs_background": "light"
     },
     "output_type": "display_data"
    },
    {
     "data": {
      "image/png": "[encoded data removed]",
      "text/plain": [
       "<Figure size 1080x720 with 1 Axes>"
      ]
     },
     "metadata": {
      "needs_background": "light"
     },
     "output_type": "display_data"
    },
    {
     "data": {
      "image/png": "[encoded data removed]",
      "text/plain": [
       "<Figure size 1080x720 with 1 Axes>"
      ]
     },
     "metadata": {
      "needs_background": "light"
     },
     "output_type": "display_data"
    },
    {
     "data": {
      "image/png": "[encoded data removed]",
      "text/plain": [
       "<Figure size 1080x720 with 1 Axes>"
      ]
     },
     "metadata": {
      "needs_background": "light"
     },
     "output_type": "display_data"
    }
   ],
   "source": [
    "for i in features_for_plot:\n",
    "    geo_data_0[i].plot.hist(bins=30, figsize=(15, 10), grid=True, ec='black');\n",
    "    plt.xlabel(i)\n",
    "    plt.ylabel('Количество скважин.')\n",
    "    plt.title(f'График {i}.')\n",
    "    plt.show()"
   ]
  },
  {
   "cell_type": "markdown",
   "metadata": {},
   "source": [
    "По графикам выше видно, что распределнием, близким к нормальному, обладает только признак f2. Аномалий и выбросов нет."
   ]
  },
  {
   "cell_type": "markdown",
   "metadata": {},
   "source": [
    "Посмотрю корреляцию:"
   ]
  },
  {
   "cell_type": "code",
   "execution_count": 25,
   "metadata": {},
   "outputs": [
    {
     "data": {
      "image/png": "[encoded data removed]",
      "text/plain": [
       "<Figure size 864x720 with 2 Axes>"
      ]
     },
     "metadata": {
      "needs_background": "light"
     },
     "output_type": "display_data"
    }
   ],
   "source": [
    "df_for_phik = geo_data_0.drop('id', axis=1).copy()\n",
    "\n",
    "for col in df_for_phik.select_dtypes(include=['object']).columns:\n",
    "    df_for_phik[col] = df_for_phik[col].astype('category')\n",
    "\n",
    "numeric_cols = df_for_phik.select_dtypes(include=[np.number]).columns\n",
    "phik_corr = df_for_phik.phik_matrix(interval_cols=numeric_cols)\n",
    "\n",
    "plt.figure(figsize=(12, 10))\n",
    "sns.heatmap(\n",
    "    phik_corr,\n",
    "    annot=True,\n",
    "    fmt=\".2f\",\n",
    "    cmap=\"coolwarm\",\n",
    "    vmin=0, vmax=1,\n",
    "    linewidths=0.5,\n",
    "    linecolor='black',\n",
    "    cbar_kws={\"shrink\": 0.8, \"aspect\": 30},\n",
    "    square=True\n",
    ")\n",
    "\n",
    "plt.title(\"Матрица корреляции phik\", fontsize=16, fontweight='bold', pad=20)\n",
    "plt.xticks(fontsize=12, rotation=45, ha='right')\n",
    "plt.yticks(fontsize=12)\n",
    "plt.tight_layout()\n",
    "plt.show()\n"
   ]
  },
  {
   "cell_type": "markdown",
   "metadata": {},
   "source": [
    "Критически высокой корреляции между признаками не обнаружено, мультиколлинеарность не выявлена."
   ]
  },
  {
   "cell_type": "markdown",
   "metadata": {},
   "source": [
    "***geo_data_1***"
   ]
  },
  {
   "cell_type": "code",
   "execution_count": 26,
   "metadata": {},
   "outputs": [
    {
     "data": {
      "text/html": [
       "<div>\n",
       "<style scoped>\n",
       "    .dataframe tbody tr th:only-of-type {\n",
       "        vertical-align: middle;\n",
       "    }\n",
       "\n",
       "    .dataframe tbody tr th {\n",
       "        vertical-align: top;\n",
       "    }\n",
       "\n",
       "    .dataframe thead th {\n",
       "        text-align: right;\n",
       "    }\n",
       "</style>\n",
       "<table border=\"1\" class=\"dataframe\">\n",
       "  <thead>\n",
       "    <tr style=\"text-align: right;\">\n",
       "      <th></th>\n",
       "      <th>f0</th>\n",
       "      <th>f1</th>\n",
       "      <th>f2</th>\n",
       "      <th>product</th>\n",
       "    </tr>\n",
       "  </thead>\n",
       "  <tbody>\n",
       "    <tr>\n",
       "      <th>count</th>\n",
       "      <td>99996.000000</td>\n",
       "      <td>99996.000000</td>\n",
       "      <td>99996.000000</td>\n",
       "      <td>99996.000000</td>\n",
       "    </tr>\n",
       "    <tr>\n",
       "      <th>mean</th>\n",
       "      <td>1.141209</td>\n",
       "      <td>-4.796608</td>\n",
       "      <td>2.494501</td>\n",
       "      <td>68.823916</td>\n",
       "    </tr>\n",
       "    <tr>\n",
       "      <th>std</th>\n",
       "      <td>8.965815</td>\n",
       "      <td>5.119906</td>\n",
       "      <td>1.703579</td>\n",
       "      <td>45.944663</td>\n",
       "    </tr>\n",
       "    <tr>\n",
       "      <th>min</th>\n",
       "      <td>-31.609576</td>\n",
       "      <td>-26.358598</td>\n",
       "      <td>-0.018144</td>\n",
       "      <td>0.000000</td>\n",
       "    </tr>\n",
       "    <tr>\n",
       "      <th>25%</th>\n",
       "      <td>-6.298551</td>\n",
       "      <td>-8.267985</td>\n",
       "      <td>1.000021</td>\n",
       "      <td>26.953261</td>\n",
       "    </tr>\n",
       "    <tr>\n",
       "      <th>50%</th>\n",
       "      <td>1.153055</td>\n",
       "      <td>-4.813172</td>\n",
       "      <td>2.011475</td>\n",
       "      <td>57.085625</td>\n",
       "    </tr>\n",
       "    <tr>\n",
       "      <th>75%</th>\n",
       "      <td>8.620964</td>\n",
       "      <td>-1.332816</td>\n",
       "      <td>3.999904</td>\n",
       "      <td>107.813044</td>\n",
       "    </tr>\n",
       "    <tr>\n",
       "      <th>max</th>\n",
       "      <td>29.421755</td>\n",
       "      <td>18.734063</td>\n",
       "      <td>5.019721</td>\n",
       "      <td>137.945408</td>\n",
       "    </tr>\n",
       "  </tbody>\n",
       "</table>\n",
       "</div>"
      ],
      "text/plain": [
       "                 f0            f1            f2       product\n",
       "count  99996.000000  99996.000000  99996.000000  99996.000000\n",
       "mean       1.141209     -4.796608      2.494501     68.823916\n",
       "std        8.965815      5.119906      1.703579     45.944663\n",
       "min      -31.609576    -26.358598     -0.018144      0.000000\n",
       "25%       -6.298551     -8.267985      1.000021     26.953261\n",
       "50%        1.153055     -4.813172      2.011475     57.085625\n",
       "75%        8.620964     -1.332816      3.999904    107.813044\n",
       "max       29.421755     18.734063      5.019721    137.945408"
      ]
     },
     "execution_count": 26,
     "metadata": {},
     "output_type": "execute_result"
    }
   ],
   "source": [
    "geo_data_1.describe()"
   ]
  },
  {
   "cell_type": "code",
   "execution_count": 27,
   "metadata": {},
   "outputs": [
    {
     "data": {
      "image/png": "[encoded data removed]",
      "text/plain": [
       "<Figure size 1080x720 with 1 Axes>"
      ]
     },
     "metadata": {
      "needs_background": "light"
     },
     "output_type": "display_data"
    },
    {
     "data": {
      "image/png": "[encoded data removed]",
      "text/plain": [
       "<Figure size 1080x720 with 1 Axes>"
      ]
     },
     "metadata": {
      "needs_background": "light"
     },
     "output_type": "display_data"
    },
    {
     "data": {
      "image/png": "[encoded data removed]",
      "text/plain": [
       "<Figure size 1080x720 with 1 Axes>"
      ]
     },
     "metadata": {
      "needs_background": "light"
     },
     "output_type": "display_data"
    },
    {
     "data": {
      "image/png": "[encoded data removed]",
      "text/plain": [
       "<Figure size 1080x720 with 1 Axes>"
      ]
     },
     "metadata": {
      "needs_background": "light"
     },
     "output_type": "display_data"
    }
   ],
   "source": [
    "for i in features_for_plot:\n",
    "    geo_data_1[i].plot.hist(bins=30, figsize=(15, 10), grid=True, ec='black');\n",
    "    plt.xlabel(i)\n",
    "    plt.ylabel('Количество скважин.')\n",
    "    plt.title(f'График {i}.')\n",
    "    plt.show()"
   ]
  },
  {
   "cell_type": "markdown",
   "metadata": {},
   "source": [
    "На графиках признаков выше видно, что распределение около нормального присутствует только в признаке f1. Выбросов и аномальных значений нет."
   ]
  },
  {
   "cell_type": "code",
   "execution_count": 28,
   "metadata": {},
   "outputs": [
    {
     "data": {
      "image/png": "[encoded data removed]",
      "text/plain": [
       "<Figure size 864x720 with 2 Axes>"
      ]
     },
     "metadata": {
      "needs_background": "light"
     },
     "output_type": "display_data"
    }
   ],
   "source": [
    "df_for_phik_1 = geo_data_1.drop('id', axis=1).copy()\n",
    "\n",
    "for col in df_for_phik_1.select_dtypes(include=['object']).columns:\n",
    "    df_for_phik_1[col] = df_for_phik_1[col].astype('category')\n",
    "\n",
    "numeric_cols = df_for_phik_1.select_dtypes(include=[np.number]).columns\n",
    "phik_corr = df_for_phik_1.phik_matrix(interval_cols=numeric_cols)\n",
    "\n",
    "plt.figure(figsize=(12, 10))\n",
    "sns.heatmap(\n",
    "    phik_corr,\n",
    "    annot=True,\n",
    "    fmt=\".2f\",\n",
    "    cmap=\"coolwarm\",\n",
    "    vmin=0, vmax=1,\n",
    "    linewidths=0.5,\n",
    "    linecolor='black',\n",
    "    cbar_kws={\"shrink\": 0.8, \"aspect\": 30},\n",
    "    square=True\n",
    ")\n",
    "\n",
    "plt.title(\"Матрица корреляции phik\", fontsize=16, fontweight='bold', pad=20)\n",
    "plt.xticks(fontsize=12, rotation=45, ha='right')\n",
    "plt.yticks(fontsize=12)\n",
    "plt.tight_layout()\n",
    "plt.show()\n"
   ]
  },
  {
   "cell_type": "markdown",
   "metadata": {},
   "source": [
    "Критически высокой корреляции между признаками не обнаружено, мультиколлинеарность не выявлена."
   ]
  },
  {
   "cell_type": "markdown",
   "metadata": {},
   "source": [
    "***geo_data_2***"
   ]
  },
  {
   "cell_type": "code",
   "execution_count": 29,
   "metadata": {},
   "outputs": [
    {
     "data": {
      "text/html": [
       "<div>\n",
       "<style scoped>\n",
       "    .dataframe tbody tr th:only-of-type {\n",
       "        vertical-align: middle;\n",
       "    }\n",
       "\n",
       "    .dataframe tbody tr th {\n",
       "        vertical-align: top;\n",
       "    }\n",
       "\n",
       "    .dataframe thead th {\n",
       "        text-align: right;\n",
       "    }\n",
       "</style>\n",
       "<table border=\"1\" class=\"dataframe\">\n",
       "  <thead>\n",
       "    <tr style=\"text-align: right;\">\n",
       "      <th></th>\n",
       "      <th>f0</th>\n",
       "      <th>f1</th>\n",
       "      <th>f2</th>\n",
       "      <th>product</th>\n",
       "    </tr>\n",
       "  </thead>\n",
       "  <tbody>\n",
       "    <tr>\n",
       "      <th>count</th>\n",
       "      <td>99996.000000</td>\n",
       "      <td>99996.000000</td>\n",
       "      <td>99996.000000</td>\n",
       "      <td>99996.000000</td>\n",
       "    </tr>\n",
       "    <tr>\n",
       "      <th>mean</th>\n",
       "      <td>0.002002</td>\n",
       "      <td>-0.002159</td>\n",
       "      <td>2.495084</td>\n",
       "      <td>94.998342</td>\n",
       "    </tr>\n",
       "    <tr>\n",
       "      <th>std</th>\n",
       "      <td>1.732052</td>\n",
       "      <td>1.730397</td>\n",
       "      <td>3.473482</td>\n",
       "      <td>44.749573</td>\n",
       "    </tr>\n",
       "    <tr>\n",
       "      <th>min</th>\n",
       "      <td>-8.760004</td>\n",
       "      <td>-7.084020</td>\n",
       "      <td>-11.970335</td>\n",
       "      <td>0.000000</td>\n",
       "    </tr>\n",
       "    <tr>\n",
       "      <th>25%</th>\n",
       "      <td>-1.162328</td>\n",
       "      <td>-1.174841</td>\n",
       "      <td>0.130269</td>\n",
       "      <td>59.450028</td>\n",
       "    </tr>\n",
       "    <tr>\n",
       "      <th>50%</th>\n",
       "      <td>0.009424</td>\n",
       "      <td>-0.009661</td>\n",
       "      <td>2.484236</td>\n",
       "      <td>94.925026</td>\n",
       "    </tr>\n",
       "    <tr>\n",
       "      <th>75%</th>\n",
       "      <td>1.158477</td>\n",
       "      <td>1.163523</td>\n",
       "      <td>4.858720</td>\n",
       "      <td>130.586815</td>\n",
       "    </tr>\n",
       "    <tr>\n",
       "      <th>max</th>\n",
       "      <td>7.238262</td>\n",
       "      <td>7.844801</td>\n",
       "      <td>16.739402</td>\n",
       "      <td>190.029838</td>\n",
       "    </tr>\n",
       "  </tbody>\n",
       "</table>\n",
       "</div>"
      ],
      "text/plain": [
       "                 f0            f1            f2       product\n",
       "count  99996.000000  99996.000000  99996.000000  99996.000000\n",
       "mean       0.002002     -0.002159      2.495084     94.998342\n",
       "std        1.732052      1.730397      3.473482     44.749573\n",
       "min       -8.760004     -7.084020    -11.970335      0.000000\n",
       "25%       -1.162328     -1.174841      0.130269     59.450028\n",
       "50%        0.009424     -0.009661      2.484236     94.925026\n",
       "75%        1.158477      1.163523      4.858720    130.586815\n",
       "max        7.238262      7.844801     16.739402    190.029838"
      ]
     },
     "execution_count": 29,
     "metadata": {},
     "output_type": "execute_result"
    }
   ],
   "source": [
    "geo_data_2.describe()"
   ]
  },
  {
   "cell_type": "code",
   "execution_count": 30,
   "metadata": {},
   "outputs": [
    {
     "data": {
      "image/png": "[encoded data removed]",
      "text/plain": [
       "<Figure size 1080x720 with 1 Axes>"
      ]
     },
     "metadata": {
      "needs_background": "light"
     },
     "output_type": "display_data"
    },
    {
     "data": {
      "image/png": "[encoded data removed]",
      "text/plain": [
       "<Figure size 1080x720 with 1 Axes>"
      ]
     },
     "metadata": {
      "needs_background": "light"
     },
     "output_type": "display_data"
    },
    {
     "data": {
      "image/png": "[encoded data removed]",
      "text/plain": [
       "<Figure size 1080x720 with 1 Axes>"
      ]
     },
     "metadata": {
      "needs_background": "light"
     },
     "output_type": "display_data"
    },
    {
     "data": {
      "image/png": "[encoded data removed]",
      "text/plain": [
       "<Figure size 1080x720 with 1 Axes>"
      ]
     },
     "metadata": {
      "needs_background": "light"
     },
     "output_type": "display_data"
    }
   ],
   "source": [
    "for i in features_for_plot:\n",
    "    geo_data_2[i].plot.hist(bins=30, figsize=(15, 10), grid=True, ec='black');\n",
    "    plt.xlabel(i)\n",
    "    plt.ylabel('Количество скважин.')\n",
    "    plt.title(f'График {i}.')\n",
    "    plt.show()"
   ]
  },
  {
   "cell_type": "markdown",
   "metadata": {},
   "source": [
    "На графиках этого датасета видно, что нормальное распределение присутствует в признаках f0, f1 и f2, аномальных значений или выбросов не найдено."
   ]
  },
  {
   "cell_type": "code",
   "execution_count": 31,
   "metadata": {},
   "outputs": [
    {
     "data": {
      "image/png": "[encoded data removed]",
      "text/plain": [
       "<Figure size 864x720 with 2 Axes>"
      ]
     },
     "metadata": {
      "needs_background": "light"
     },
     "output_type": "display_data"
    }
   ],
   "source": [
    "df_for_phik_2 = geo_data_2.drop('id', axis=1).copy()\n",
    "\n",
    "for col in df_for_phik_2.select_dtypes(include=['object']).columns:\n",
    "    df_for_phik_1[col] = df_for_phik_2[col].astype('category')\n",
    "\n",
    "numeric_cols = df_for_phik_2.select_dtypes(include=[np.number]).columns\n",
    "phik_corr = df_for_phik_2.phik_matrix(interval_cols=numeric_cols)\n",
    "\n",
    "plt.figure(figsize=(12, 10))\n",
    "sns.heatmap(\n",
    "    phik_corr,\n",
    "    annot=True,\n",
    "    fmt=\".2f\",\n",
    "    cmap=\"coolwarm\",\n",
    "    vmin=0, vmax=1,\n",
    "    linewidths=0.5,\n",
    "    linecolor='black',\n",
    "    cbar_kws={\"shrink\": 0.8, \"aspect\": 30},\n",
    "    square=True\n",
    ")\n",
    "\n",
    "plt.title(\"Матрица корреляции phik\", fontsize=16, fontweight='bold', pad=20)\n",
    "plt.xticks(fontsize=12, rotation=45, ha='right')\n",
    "plt.yticks(fontsize=12)\n",
    "plt.tight_layout()\n",
    "plt.show()\n"
   ]
  },
  {
   "cell_type": "markdown",
   "metadata": {},
   "source": [
    "Критически высокой корреляции между признаками не обнаружено, мультиколлинеарность не выявлена."
   ]
  },
  {
   "cell_type": "markdown",
   "metadata": {},
   "source": [
    "***Вывод***\n",
    "\n",
    "***geo_data_0***\n",
    "\n",
    "Распределнием, близким к нормальному, обладает только признак f2.\n",
    "\n",
    "***geo_data_1***\n",
    "\n",
    "Распределение около нормального присутствует только в признаке f1. Выбросов и аномальных значений нет.\n",
    "\n",
    "***geo_data_2***\n",
    "\n",
    "Нормальное распределение присутствует в признаках f0, f1 и f2.\n",
    "\n",
    "Во всех трех датасетах аномальных значений и выбросов не обнаружено. Мультиколлинеарность не выявлена."
   ]
  },
  {
   "cell_type": "markdown",
   "metadata": {},
   "source": [
    "## Обучение и проверка модели"
   ]
  },
  {
   "cell_type": "markdown",
   "metadata": {},
   "source": [
    "Обучу и проверю модель для каждого из трех регионов, а также сохраню предсказания:"
   ]
  },
  {
   "cell_type": "code",
   "execution_count": 32,
   "metadata": {},
   "outputs": [],
   "source": [
    "RANDOM_STATE = 42\n",
    "\n",
    "X_0 = geo_data_0.drop(columns=['id', 'product'], axis=1)\n",
    "y_0 = geo_data_0['product']\n",
    "X_train_0, X_test_0, y_train_0, y_test_0 = train_test_split(X_0, y_0, test_size=0.25, random_state=RANDOM_STATE) \n",
    "\n",
    "X_1 = geo_data_1.drop(columns=['id', 'product'], axis=1)\n",
    "y_1 = geo_data_1['product']\n",
    "X_train_1, X_test_1, y_train_1, y_test_1 = train_test_split(X_1, y_1, test_size=0.25, random_state=RANDOM_STATE) \n",
    "\n",
    "X_2 = geo_data_2.drop(columns=['id', 'product'], axis=1)\n",
    "y_2 = geo_data_2['product']\n",
    "X_train_2, X_test_2, y_train_2, y_test_2 = train_test_split(X_2, y_2, test_size=0.25, random_state=RANDOM_STATE) "
   ]
  },
  {
   "cell_type": "code",
   "execution_count": 33,
   "metadata": {},
   "outputs": [],
   "source": [
    "def linear_fit(X_train, X_test, y_train, y_test):\n",
    "    model_lr = LinearRegression()\n",
    "    model_lr.fit(X_train, y_train)\n",
    "    y_pred = model_lr.predict(X_test)\n",
    "    return y_pred"
   ]
  },
  {
   "cell_type": "code",
   "execution_count": 34,
   "metadata": {},
   "outputs": [],
   "source": [
    "y_pred_0 = linear_fit(X_train_0, X_test_0, y_train_0, y_test_0)\n",
    "y_pred_1 = linear_fit(X_train_1, X_test_1, y_train_1, y_test_1)\n",
    "y_pred_2 = linear_fit(X_train_2, X_test_2, y_train_2, y_test_2)"
   ]
  },
  {
   "cell_type": "code",
   "execution_count": 35,
   "metadata": {},
   "outputs": [
    {
     "name": "stdout",
     "output_type": "stream",
     "text": [
      "RMSE geo_data_0: 37.68508926201444\n",
      "RMSE geo_data_1: 0.8928265978121422\n",
      "RMSE geo_data_2: 40.080822438088305\n",
      "\n",
      "Средний запас предсказанного сырья geo_data_0: 92.60984027552018\n",
      "Средний запас предсказанного сырья geo_data_1: 68.57703454115173\n",
      "Средний запас предсказанного сырья geo_data_2: 94.93478722287514\n"
     ]
    }
   ],
   "source": [
    "print(f'RMSE geo_data_0: {mean_squared_error(y_test_0, y_pred_0) ** 0.5}')\n",
    "print(f'RMSE geo_data_1: {mean_squared_error(y_test_1, y_pred_1) ** 0.5}')\n",
    "print(f'RMSE geo_data_2: {mean_squared_error(y_test_2, y_pred_2) ** 0.5}')\n",
    "print()\n",
    "print(f'Средний запас предсказанного сырья geo_data_0: {y_pred_0.mean()}')\n",
    "print(f'Средний запас предсказанного сырья geo_data_1: {y_pred_1.mean()}')\n",
    "print(f'Средний запас предсказанного сырья geo_data_2: {y_pred_2.mean()}')"
   ]
  },
  {
   "cell_type": "markdown",
   "metadata": {},
   "source": [
    "***Вывод***\n",
    "\n",
    "Самое высокое среднее количество сырья находится в geo_data_2 и geo_data_0, но в этих регионах RMSE очень высокий, что говорит о высокой сложности прогноза сырья в этих регионах, в то время как в geo_data_1 очень низкий RMSE, но и средний запас сырья значительно ниже, чем в других."
   ]
  },
  {
   "cell_type": "markdown",
   "metadata": {},
   "source": [
    "## Подготовка к расчёту прибыли"
   ]
  },
  {
   "cell_type": "markdown",
   "metadata": {},
   "source": [
    "Проведу подготовку к расчёту прибыли:"
   ]
  },
  {
   "cell_type": "code",
   "execution_count": 36,
   "metadata": {},
   "outputs": [],
   "source": [
    "well_budget = 10_000_000_000\n",
    "one_barrel_income_rub = 450\n",
    "one_thousand_barrel_income_rub = 450_000\n",
    "well_points = 500\n",
    "well_ml_points = 200\n",
    "budget_per_well = well_budget / well_ml_points\n",
    "minimum_quantity_of_product = budget_per_well / one_thousand_barrel_income_rub\n",
    "loss_probability = 0.025"
   ]
  },
  {
   "cell_type": "markdown",
   "metadata": {},
   "source": [
    "Были созданы все нужные переменные, хранящие в себе бюджет, количество скважин, а также минимальное количество сырья для безубыточной разработки скважины, выведу это значение на экран и сравню со средними по всем регионам из прошлого пункта:"
   ]
  },
  {
   "cell_type": "code",
   "execution_count": 37,
   "metadata": {},
   "outputs": [
    {
     "data": {
      "text/plain": [
       "111.11111"
      ]
     },
     "execution_count": 37,
     "metadata": {},
     "output_type": "execute_result"
    }
   ],
   "source": [
    "round(minimum_quantity_of_product, 5)"
   ]
  },
  {
   "cell_type": "markdown",
   "metadata": {},
   "source": [
    "***Вывод***\n",
    "\n",
    "Значение для безубыточной разработки одной скважины - 111.11111 тыс баррелей, что является больше каждого среднего из всех регионов."
   ]
  },
  {
   "cell_type": "markdown",
   "metadata": {},
   "source": [
    "## Расчёт прибыли и рисков "
   ]
  },
  {
   "cell_type": "markdown",
   "metadata": {},
   "source": [
    "Напишу функцию для расчёта прибыли по выбранным скважинам и предсказаниям модели:"
   ]
  },
  {
   "cell_type": "code",
   "execution_count": 38,
   "metadata": {},
   "outputs": [],
   "source": [
    "def best_wells(y_pred):\n",
    "    profit = pd.Series(y_pred).sort_values(ascending=False)[:well_ml_points].sum() * one_thousand_barrel_income_rub - well_budget\n",
    "    return profit"
   ]
  },
  {
   "cell_type": "code",
   "execution_count": 39,
   "metadata": {},
   "outputs": [
    {
     "name": "stdout",
     "output_type": "stream",
     "text": [
      "Прибыль от 200 лучших скважин в регионе geo_data_0 3953505894.021515\n",
      "Прибыль от 200 лучших скважин в регионе geo_data_1 2483060328.4911556\n",
      "Прибыль от 200 лучших скважин в регионе geo_data_2 3323508789.4212666\n"
     ]
    }
   ],
   "source": [
    "print(f'Прибыль от 200 лучших скважин в регионе geo_data_0 {best_wells(y_pred_0)}')\n",
    "print(f'Прибыль от 200 лучших скважин в регионе geo_data_1 {best_wells(y_pred_1)}')\n",
    "print(f'Прибыль от 200 лучших скважин в регионе geo_data_2 {best_wells(y_pred_2)}')"
   ]
  },
  {
   "cell_type": "markdown",
   "metadata": {},
   "source": [
    "Исходя из предсказаний модели видно, что самым прибыльным регионом будет geo_data_0"
   ]
  },
  {
   "cell_type": "markdown",
   "metadata": {},
   "source": [
    "Применю технику Bootstrap с 1000 выборок:"
   ]
  },
  {
   "cell_type": "code",
   "execution_count": 40,
   "metadata": {},
   "outputs": [],
   "source": [
    "def bootstrap_profit(target, predictions, well_points, well_ml_points, one_thousand_barrel_income_rub, well_budget, loss_probability, n_samples=1000):\n",
    "    state = np.random.RandomState(12345)\n",
    "    values = []\n",
    "    target = np.array(target)\n",
    "    predictions = np.array(predictions)\n",
    "    \n",
    "    for _ in range(n_samples):\n",
    "        sample_indices = state.choice(len(target), well_points, replace=True)\n",
    "        sample_target = target[sample_indices]\n",
    "        sample_predictions = predictions[sample_indices]\n",
    "        sorted_indices = np.argsort(sample_predictions)[-well_ml_points:]\n",
    "        selected_target = sample_target[sorted_indices]\n",
    "        profit = (selected_target.sum() * one_thousand_barrel_income_rub) - well_budget\n",
    "        values.append(profit)\n",
    "    \n",
    "    values_series = pd.Series(values)\n",
    "    risk = (values_series < 0).mean() * 100\n",
    "    product_values_mean = values_series.mean()\n",
    "    lower_interval = values_series.quantile(loss_probability)\n",
    "    upper_interval = values_series.quantile(1 - loss_probability)\n",
    "    \n",
    "    return product_values_mean, lower_interval, upper_interval, risk\n"
   ]
  },
  {
   "cell_type": "code",
   "execution_count": 41,
   "metadata": {},
   "outputs": [],
   "source": [
    "values_mean_0, lower_0, upper_0, risk_0 = bootstrap_profit(y_test_0, y_pred_0, well_points, well_ml_points, one_thousand_barrel_income_rub, well_budget, loss_probability)\n",
    "values_mean_1, lower_1, upper_1, risk_1 = bootstrap_profit(y_test_1, y_pred_1, well_points, well_ml_points, one_thousand_barrel_income_rub, well_budget, loss_probability)\n",
    "values_mean_2, lower_2, upper_2, risk_2 = bootstrap_profit(y_test_2, y_pred_2, well_points, well_ml_points, one_thousand_barrel_income_rub, well_budget, loss_probability)"
   ]
  },
  {
   "cell_type": "code",
   "execution_count": 42,
   "metadata": {},
   "outputs": [
    {
     "name": "stdout",
     "output_type": "stream",
     "text": [
      "Регион geo_data_0: \n",
      "Среднее значение: 417354353.4556372, \n",
      "Доверительный интервал: (-96261928.01843758, 933493095.4996519), \n",
      "Риск убытков: 5.8999999999999995%\n",
      "\n",
      "Регион geo_data_1: \n",
      "Среднее значение: 432017870.03942716, \n",
      "Доверительный интервал: (51741836.3252449, 863042250.0217904), \n",
      "Риск убытков: 1.0%\n",
      "\n",
      "Регион geo_data_2: \n",
      "Среднее значение: 356881964.6217666, \n",
      "Доверительный интервал: (-186256154.7554878, 892099105.6741308), \n",
      "Риск убытков: 8.9%\n",
      "\n"
     ]
    }
   ],
   "source": [
    "print(f'Регион geo_data_0: \\nСреднее значение: {values_mean_0}, \\nДоверительный интервал: {lower_0, upper_0}, \\nРиск убытков: {risk_0}%\\n')\n",
    "print(f'Регион geo_data_1: \\nСреднее значение: {values_mean_1}, \\nДоверительный интервал: {lower_1, upper_1}, \\nРиск убытков: {risk_1}%\\n')\n",
    "print(f'Регион geo_data_2: \\nСреднее значение: {values_mean_2}, \\nДоверительный интервал: {lower_2, upper_2}, \\nРиск убытков: {risk_2}%\\n')"
   ]
  },
  {
   "cell_type": "markdown",
   "metadata": {},
   "source": [
    "***Вывод***\n",
    "\n",
    "Были проведены все необходимые расчеты, получены риски, средние значения, а также доверительные интервалы для каждого региона.\n",
    "\n",
    "Резюмируя результаты, которые выведены выше можно заключить, что самое высокое среднее значение прибыли наблюдается в регионе geo_data_1, также здесь прослеживается минимальный уровень риска 1%, доверительный интервал довольно узкий, что говорит о надежности этого региона, все это в совокупности делает этот регион лучшим для разработки"
   ]
  },
  {
   "cell_type": "markdown",
   "metadata": {},
   "source": [
    "Поставьте 'x' в выполненных пунктах. Далее нажмите Shift+Enter."
   ]
  },
  {
   "cell_type": "code",
   "execution_count": null,
   "metadata": {},
   "outputs": [],
   "source": []
  }
 ],
 "metadata": {
  "ExecuteTimeLog": [
   {
    "duration": 62,
    "start_time": "2025-02-14T14:04:11.551Z"
   },
   {
    "duration": 457,
    "start_time": "2025-02-14T14:04:34.678Z"
   },
   {
    "duration": 927,
    "start_time": "2025-02-14T14:04:36.268Z"
   },
   {
    "duration": 3,
    "start_time": "2025-02-14T14:04:38.980Z"
   },
   {
    "duration": 3,
    "start_time": "2025-02-14T14:04:39.595Z"
   },
   {
    "duration": 30,
    "start_time": "2025-02-14T14:05:06.913Z"
   },
   {
    "duration": 106,
    "start_time": "2025-02-14T14:05:07.266Z"
   },
   {
    "duration": 7,
    "start_time": "2025-02-14T14:05:07.921Z"
   },
   {
    "duration": 3,
    "start_time": "2025-02-14T14:07:15.720Z"
   },
   {
    "duration": 27,
    "start_time": "2025-02-14T14:07:31.770Z"
   },
   {
    "duration": 27,
    "start_time": "2025-02-14T14:07:35.721Z"
   },
   {
    "duration": 32,
    "start_time": "2025-02-14T14:07:39.733Z"
   },
   {
    "duration": 3,
    "start_time": "2025-02-14T14:08:40.878Z"
   },
   {
    "duration": 4,
    "start_time": "2025-02-14T14:08:49.052Z"
   },
   {
    "duration": 31,
    "start_time": "2025-02-14T14:09:15.601Z"
   },
   {
    "duration": 7,
    "start_time": "2025-02-14T14:09:22.127Z"
   },
   {
    "duration": 24,
    "start_time": "2025-02-14T14:09:43.772Z"
   },
   {
    "duration": 29,
    "start_time": "2025-02-14T14:09:51.139Z"
   },
   {
    "duration": 27,
    "start_time": "2025-02-14T14:09:54.615Z"
   },
   {
    "duration": 128,
    "start_time": "2025-02-14T14:10:36.060Z"
   },
   {
    "duration": 114,
    "start_time": "2025-02-14T14:10:40.223Z"
   },
   {
    "duration": 131,
    "start_time": "2025-02-14T14:10:43.416Z"
   },
   {
    "duration": 5,
    "start_time": "2025-02-14T14:11:25.284Z"
   },
   {
    "duration": 141,
    "start_time": "2025-02-14T14:11:25.553Z"
   },
   {
    "duration": 110,
    "start_time": "2025-02-14T14:11:25.780Z"
   },
   {
    "duration": 119,
    "start_time": "2025-02-14T14:11:25.934Z"
   },
   {
    "duration": 31,
    "start_time": "2025-02-14T14:11:26.564Z"
   },
   {
    "duration": 27,
    "start_time": "2025-02-14T14:11:26.869Z"
   },
   {
    "duration": 31,
    "start_time": "2025-02-14T14:11:27.146Z"
   },
   {
    "duration": 8,
    "start_time": "2025-02-14T14:12:35.356Z"
   },
   {
    "duration": 9,
    "start_time": "2025-02-14T14:12:41.643Z"
   },
   {
    "duration": 36,
    "start_time": "2025-02-14T14:13:13.075Z"
   },
   {
    "duration": 29,
    "start_time": "2025-02-14T14:13:16.302Z"
   },
   {
    "duration": 4,
    "start_time": "2025-02-14T14:13:30.486Z"
   },
   {
    "duration": 40,
    "start_time": "2025-02-14T14:13:54.136Z"
   },
   {
    "duration": 30,
    "start_time": "2025-02-14T14:13:54.446Z"
   },
   {
    "duration": 39,
    "start_time": "2025-02-14T14:13:54.751Z"
   },
   {
    "duration": 69,
    "start_time": "2025-02-14T14:15:21.011Z"
   },
   {
    "duration": 79,
    "start_time": "2025-02-14T14:15:34.959Z"
   },
   {
    "duration": 64,
    "start_time": "2025-02-14T14:15:42.848Z"
   },
   {
    "duration": 67,
    "start_time": "2025-02-14T14:15:49.391Z"
   },
   {
    "duration": 10,
    "start_time": "2025-02-14T14:16:25.903Z"
   },
   {
    "duration": 172,
    "start_time": "2025-02-14T14:17:40.524Z"
   },
   {
    "duration": 17,
    "start_time": "2025-02-14T14:17:52.422Z"
   },
   {
    "duration": 25,
    "start_time": "2025-02-14T14:18:02.323Z"
   },
   {
    "duration": 10,
    "start_time": "2025-02-14T14:18:31.588Z"
   },
   {
    "duration": 90,
    "start_time": "2025-02-14T14:18:40.408Z"
   },
   {
    "duration": 32,
    "start_time": "2025-02-14T14:18:54.623Z"
   },
   {
    "duration": 15,
    "start_time": "2025-02-14T14:19:00.570Z"
   },
   {
    "duration": 479,
    "start_time": "2025-02-14T14:19:09.478Z"
   },
   {
    "duration": 24,
    "start_time": "2025-02-14T14:19:20.000Z"
   },
   {
    "duration": 47,
    "start_time": "2025-02-14T14:19:28.879Z"
   },
   {
    "duration": 11,
    "start_time": "2025-02-14T14:20:04.596Z"
   },
   {
    "duration": 26,
    "start_time": "2025-02-14T14:20:10.642Z"
   },
   {
    "duration": 13,
    "start_time": "2025-02-14T14:22:34.077Z"
   },
   {
    "duration": 66,
    "start_time": "2025-02-14T14:23:04.675Z"
   },
   {
    "duration": 64,
    "start_time": "2025-02-14T14:23:11.184Z"
   },
   {
    "duration": 174,
    "start_time": "2025-02-14T14:23:15.799Z"
   },
   {
    "duration": 400,
    "start_time": "2025-02-14T14:23:44.192Z"
   },
   {
    "duration": 919,
    "start_time": "2025-02-14T14:23:44.595Z"
   },
   {
    "duration": 3,
    "start_time": "2025-02-14T14:23:45.516Z"
   },
   {
    "duration": 22,
    "start_time": "2025-02-14T14:23:45.520Z"
   },
   {
    "duration": 3,
    "start_time": "2025-02-14T14:23:45.545Z"
   },
   {
    "duration": 40,
    "start_time": "2025-02-14T14:23:45.550Z"
   },
   {
    "duration": 100,
    "start_time": "2025-02-14T14:23:45.592Z"
   },
   {
    "duration": 7,
    "start_time": "2025-02-14T14:23:45.694Z"
   },
   {
    "duration": 5,
    "start_time": "2025-02-14T14:23:45.703Z"
   },
   {
    "duration": 138,
    "start_time": "2025-02-14T14:23:45.710Z"
   },
   {
    "duration": 103,
    "start_time": "2025-02-14T14:23:45.854Z"
   },
   {
    "duration": 113,
    "start_time": "2025-02-14T14:23:45.958Z"
   },
   {
    "duration": 22,
    "start_time": "2025-02-14T14:23:46.073Z"
   },
   {
    "duration": 23,
    "start_time": "2025-02-14T14:23:46.097Z"
   },
   {
    "duration": 48,
    "start_time": "2025-02-14T14:23:46.122Z"
   },
   {
    "duration": 31,
    "start_time": "2025-02-14T14:23:46.172Z"
   },
   {
    "duration": 125,
    "start_time": "2025-02-14T14:23:46.205Z"
   },
   {
    "duration": 36,
    "start_time": "2025-02-14T14:23:46.332Z"
   },
   {
    "duration": 491,
    "start_time": "2025-02-14T14:23:46.370Z"
   },
   {
    "duration": 412,
    "start_time": "2025-02-14T14:24:43.775Z"
   },
   {
    "duration": 944,
    "start_time": "2025-02-14T14:24:44.189Z"
   },
   {
    "duration": 3,
    "start_time": "2025-02-14T14:24:45.134Z"
   },
   {
    "duration": 158,
    "start_time": "2025-02-14T14:24:45.139Z"
   },
   {
    "duration": 53,
    "start_time": "2025-02-14T14:24:45.299Z"
   },
   {
    "duration": 160,
    "start_time": "2025-02-14T14:24:45.354Z"
   },
   {
    "duration": 127,
    "start_time": "2025-02-14T14:24:45.516Z"
   },
   {
    "duration": 15,
    "start_time": "2025-02-14T14:24:45.645Z"
   },
   {
    "duration": 47,
    "start_time": "2025-02-14T14:24:45.662Z"
   },
   {
    "duration": 163,
    "start_time": "2025-02-14T14:24:45.710Z"
   },
   {
    "duration": 117,
    "start_time": "2025-02-14T14:24:45.875Z"
   },
   {
    "duration": 126,
    "start_time": "2025-02-14T14:24:45.994Z"
   },
   {
    "duration": 23,
    "start_time": "2025-02-14T14:24:46.122Z"
   },
   {
    "duration": 35,
    "start_time": "2025-02-14T14:24:46.156Z"
   },
   {
    "duration": 193,
    "start_time": "2025-02-14T14:24:46.192Z"
   },
   {
    "duration": 47,
    "start_time": "2025-02-14T14:24:46.386Z"
   },
   {
    "duration": 346,
    "start_time": "2025-02-14T14:24:46.436Z"
   },
   {
    "duration": 65,
    "start_time": "2025-02-14T14:24:46.784Z"
   },
   {
    "duration": 1389,
    "start_time": "2025-02-14T14:24:46.851Z"
   },
   {
    "duration": 46,
    "start_time": "2025-02-14T14:25:09.210Z"
   },
   {
    "duration": 6,
    "start_time": "2025-02-14T14:25:14.203Z"
   },
   {
    "duration": 3,
    "start_time": "2025-02-14T14:25:26.719Z"
   },
   {
    "duration": 429,
    "start_time": "2025-02-14T14:25:37.766Z"
   },
   {
    "duration": 923,
    "start_time": "2025-02-14T14:25:38.197Z"
   },
   {
    "duration": 3,
    "start_time": "2025-02-14T14:25:39.121Z"
   },
   {
    "duration": 39,
    "start_time": "2025-02-14T14:25:39.126Z"
   },
   {
    "duration": 23,
    "start_time": "2025-02-14T14:25:39.167Z"
   },
   {
    "duration": 33,
    "start_time": "2025-02-14T14:25:39.192Z"
   },
   {
    "duration": 93,
    "start_time": "2025-02-14T14:25:39.227Z"
   },
   {
    "duration": 5,
    "start_time": "2025-02-14T14:25:39.322Z"
   },
   {
    "duration": 28,
    "start_time": "2025-02-14T14:25:39.329Z"
   },
   {
    "duration": 124,
    "start_time": "2025-02-14T14:25:39.359Z"
   },
   {
    "duration": 107,
    "start_time": "2025-02-14T14:25:39.484Z"
   },
   {
    "duration": 132,
    "start_time": "2025-02-14T14:25:39.592Z"
   },
   {
    "duration": 36,
    "start_time": "2025-02-14T14:25:39.726Z"
   },
   {
    "duration": 23,
    "start_time": "2025-02-14T14:25:39.765Z"
   },
   {
    "duration": 23,
    "start_time": "2025-02-14T14:25:39.789Z"
   },
   {
    "duration": 54,
    "start_time": "2025-02-14T14:25:39.814Z"
   },
   {
    "duration": 35,
    "start_time": "2025-02-14T14:25:39.870Z"
   },
   {
    "duration": 61,
    "start_time": "2025-02-14T14:25:39.907Z"
   },
   {
    "duration": 36,
    "start_time": "2025-02-14T14:25:39.970Z"
   },
   {
    "duration": 43,
    "start_time": "2025-02-14T14:25:40.008Z"
   },
   {
    "duration": 8,
    "start_time": "2025-02-14T14:26:11.562Z"
   },
   {
    "duration": 3393,
    "start_time": "2025-02-14T14:26:47.808Z"
   },
   {
    "duration": 4,
    "start_time": "2025-02-14T14:26:59.478Z"
   },
   {
    "duration": 4,
    "start_time": "2025-02-14T14:27:10.949Z"
   },
   {
    "duration": 479,
    "start_time": "2025-02-14T14:27:23.295Z"
   },
   {
    "duration": 45,
    "start_time": "2025-02-14T14:27:46.334Z"
   },
   {
    "duration": 542,
    "start_time": "2025-02-14T15:12:23.146Z"
   },
   {
    "duration": 40,
    "start_time": "2025-02-14T15:12:47.110Z"
   },
   {
    "duration": 10,
    "start_time": "2025-02-14T15:15:08.527Z"
   },
   {
    "duration": 3,
    "start_time": "2025-02-14T15:15:49.035Z"
   },
   {
    "duration": 1616,
    "start_time": "2025-02-14T15:15:53.752Z"
   },
   {
    "duration": 669,
    "start_time": "2025-02-14T15:19:35.113Z"
   },
   {
    "duration": 988,
    "start_time": "2025-02-14T15:19:35.783Z"
   },
   {
    "duration": 3,
    "start_time": "2025-02-14T15:19:36.773Z"
   },
   {
    "duration": 215,
    "start_time": "2025-02-14T15:19:36.777Z"
   },
   {
    "duration": 32,
    "start_time": "2025-02-14T15:19:36.994Z"
   },
   {
    "duration": 51,
    "start_time": "2025-02-14T15:19:37.028Z"
   },
   {
    "duration": 108,
    "start_time": "2025-02-14T15:19:37.081Z"
   },
   {
    "duration": 7,
    "start_time": "2025-02-14T15:19:37.190Z"
   },
   {
    "duration": 29,
    "start_time": "2025-02-14T15:19:37.199Z"
   },
   {
    "duration": 149,
    "start_time": "2025-02-14T15:19:37.230Z"
   },
   {
    "duration": 133,
    "start_time": "2025-02-14T15:19:37.381Z"
   },
   {
    "duration": 136,
    "start_time": "2025-02-14T15:19:37.519Z"
   },
   {
    "duration": 24,
    "start_time": "2025-02-14T15:19:37.656Z"
   },
   {
    "duration": 104,
    "start_time": "2025-02-14T15:19:37.683Z"
   },
   {
    "duration": 38,
    "start_time": "2025-02-14T15:19:37.789Z"
   },
   {
    "duration": 31,
    "start_time": "2025-02-14T15:19:37.829Z"
   },
   {
    "duration": 32,
    "start_time": "2025-02-14T15:19:37.862Z"
   },
   {
    "duration": 38,
    "start_time": "2025-02-14T15:19:37.896Z"
   },
   {
    "duration": 506,
    "start_time": "2025-02-14T15:19:37.954Z"
   },
   {
    "duration": 66,
    "start_time": "2025-02-14T15:19:38.461Z"
   },
   {
    "duration": 94,
    "start_time": "2025-02-14T15:19:56.512Z"
   },
   {
    "duration": 22,
    "start_time": "2025-02-14T15:29:43.379Z"
   },
   {
    "duration": 21,
    "start_time": "2025-02-14T15:30:07.982Z"
   },
   {
    "duration": 1031,
    "start_time": "2025-02-14T15:32:06.400Z"
   },
   {
    "duration": 3,
    "start_time": "2025-02-14T15:33:00.164Z"
   },
   {
    "duration": 3,
    "start_time": "2025-02-14T15:33:00.535Z"
   },
   {
    "duration": 865,
    "start_time": "2025-02-14T15:33:05.184Z"
   },
   {
    "duration": 802,
    "start_time": "2025-02-14T15:33:18.375Z"
   },
   {
    "duration": 817,
    "start_time": "2025-02-14T15:33:30.780Z"
   },
   {
    "duration": 47,
    "start_time": "2025-02-14T15:46:24.765Z"
   },
   {
    "duration": 21,
    "start_time": "2025-02-14T15:49:08.216Z"
   },
   {
    "duration": 16889,
    "start_time": "2025-02-14T15:49:55.883Z"
   },
   {
    "duration": 647,
    "start_time": "2025-02-14T15:50:12.775Z"
   },
   {
    "duration": 377,
    "start_time": "2025-02-14T15:50:53.680Z"
   },
   {
    "duration": 75,
    "start_time": "2025-02-14T15:51:23.152Z"
   },
   {
    "duration": 803,
    "start_time": "2025-02-14T15:51:27.163Z"
   },
   {
    "duration": 2,
    "start_time": "2025-02-14T15:55:01.525Z"
   },
   {
    "duration": 42,
    "start_time": "2025-02-14T15:55:02.046Z"
   },
   {
    "duration": 849,
    "start_time": "2025-02-14T15:55:02.206Z"
   },
   {
    "duration": 829,
    "start_time": "2025-02-14T15:55:05.326Z"
   },
   {
    "duration": 340,
    "start_time": "2025-02-14T15:55:07.518Z"
   },
   {
    "duration": 24,
    "start_time": "2025-02-14T15:55:07.861Z"
   },
   {
    "duration": 0,
    "start_time": "2025-02-14T15:55:07.886Z"
   },
   {
    "duration": 2717,
    "start_time": "2025-02-14T15:55:35.135Z"
   },
   {
    "duration": 1272,
    "start_time": "2025-02-14T15:55:37.856Z"
   },
   {
    "duration": 3,
    "start_time": "2025-02-14T15:55:39.129Z"
   },
   {
    "duration": 953,
    "start_time": "2025-02-14T15:55:39.134Z"
   },
   {
    "duration": 3,
    "start_time": "2025-02-14T15:55:40.089Z"
   },
   {
    "duration": 9,
    "start_time": "2025-02-14T15:55:40.094Z"
   },
   {
    "duration": 7,
    "start_time": "2025-02-14T15:55:40.105Z"
   },
   {
    "duration": 55,
    "start_time": "2025-02-14T15:55:40.114Z"
   },
   {
    "duration": 116,
    "start_time": "2025-02-14T15:55:40.170Z"
   },
   {
    "duration": 7,
    "start_time": "2025-02-14T15:55:40.288Z"
   },
   {
    "duration": 10,
    "start_time": "2025-02-14T15:55:40.296Z"
   },
   {
    "duration": 155,
    "start_time": "2025-02-14T15:55:40.308Z"
   },
   {
    "duration": 115,
    "start_time": "2025-02-14T15:55:40.465Z"
   },
   {
    "duration": 124,
    "start_time": "2025-02-14T15:55:40.582Z"
   },
   {
    "duration": 25,
    "start_time": "2025-02-14T15:55:40.708Z"
   },
   {
    "duration": 37,
    "start_time": "2025-02-14T15:55:40.734Z"
   },
   {
    "duration": 24,
    "start_time": "2025-02-14T15:55:40.772Z"
   },
   {
    "duration": 64,
    "start_time": "2025-02-14T15:55:40.798Z"
   },
   {
    "duration": 33,
    "start_time": "2025-02-14T15:55:40.863Z"
   },
   {
    "duration": 36,
    "start_time": "2025-02-14T15:55:40.898Z"
   },
   {
    "duration": 496,
    "start_time": "2025-02-14T15:55:40.954Z"
   },
   {
    "duration": 6,
    "start_time": "2025-02-14T15:55:41.451Z"
   },
   {
    "duration": 451,
    "start_time": "2025-02-14T15:55:41.459Z"
   },
   {
    "duration": 137,
    "start_time": "2025-02-14T15:55:41.912Z"
   },
   {
    "duration": 0,
    "start_time": "2025-02-14T15:55:42.051Z"
   },
   {
    "duration": 0,
    "start_time": "2025-02-14T15:55:42.055Z"
   },
   {
    "duration": 0,
    "start_time": "2025-02-14T15:55:42.056Z"
   },
   {
    "duration": 0,
    "start_time": "2025-02-14T15:55:42.058Z"
   },
   {
    "duration": 161,
    "start_time": "2025-02-14T15:56:37.952Z"
   },
   {
    "duration": 15,
    "start_time": "2025-02-14T15:56:42.247Z"
   },
   {
    "duration": 21,
    "start_time": "2025-02-14T15:57:02.831Z"
   },
   {
    "duration": 801,
    "start_time": "2025-02-14T15:57:20.137Z"
   },
   {
    "duration": 2675,
    "start_time": "2025-02-14T15:57:26.419Z"
   },
   {
    "duration": 1298,
    "start_time": "2025-02-14T15:57:29.097Z"
   },
   {
    "duration": 4,
    "start_time": "2025-02-14T15:57:30.397Z"
   },
   {
    "duration": 991,
    "start_time": "2025-02-14T15:57:30.402Z"
   },
   {
    "duration": 3,
    "start_time": "2025-02-14T15:57:31.396Z"
   },
   {
    "duration": 36,
    "start_time": "2025-02-14T15:57:31.400Z"
   },
   {
    "duration": 8,
    "start_time": "2025-02-14T15:57:31.438Z"
   },
   {
    "duration": 41,
    "start_time": "2025-02-14T15:57:31.448Z"
   },
   {
    "duration": 146,
    "start_time": "2025-02-14T15:57:31.491Z"
   },
   {
    "duration": 6,
    "start_time": "2025-02-14T15:57:31.655Z"
   },
   {
    "duration": 37,
    "start_time": "2025-02-14T15:57:31.663Z"
   },
   {
    "duration": 168,
    "start_time": "2025-02-14T15:57:31.701Z"
   },
   {
    "duration": 119,
    "start_time": "2025-02-14T15:57:31.871Z"
   },
   {
    "duration": 134,
    "start_time": "2025-02-14T15:57:31.993Z"
   },
   {
    "duration": 36,
    "start_time": "2025-02-14T15:57:32.129Z"
   },
   {
    "duration": 29,
    "start_time": "2025-02-14T15:57:32.167Z"
   },
   {
    "duration": 42,
    "start_time": "2025-02-14T15:57:32.198Z"
   },
   {
    "duration": 48,
    "start_time": "2025-02-14T15:57:32.242Z"
   },
   {
    "duration": 36,
    "start_time": "2025-02-14T15:57:32.292Z"
   },
   {
    "duration": 59,
    "start_time": "2025-02-14T15:57:32.330Z"
   },
   {
    "duration": 516,
    "start_time": "2025-02-14T15:57:32.391Z"
   },
   {
    "duration": 4,
    "start_time": "2025-02-14T15:57:32.909Z"
   },
   {
    "duration": 424,
    "start_time": "2025-02-14T15:57:32.915Z"
   },
   {
    "duration": 995,
    "start_time": "2025-02-14T15:57:33.341Z"
   },
   {
    "duration": 825,
    "start_time": "2025-02-14T15:57:34.337Z"
   },
   {
    "duration": 330,
    "start_time": "2025-02-14T15:57:35.165Z"
   },
   {
    "duration": 858,
    "start_time": "2025-02-14T15:57:35.497Z"
   },
   {
    "duration": 51,
    "start_time": "2025-02-14T15:57:44.446Z"
   },
   {
    "duration": 7,
    "start_time": "2025-02-14T15:57:52.126Z"
   },
   {
    "duration": 2758,
    "start_time": "2025-02-14T15:58:04.634Z"
   },
   {
    "duration": 1361,
    "start_time": "2025-02-14T15:58:07.395Z"
   },
   {
    "duration": 3,
    "start_time": "2025-02-14T15:58:08.757Z"
   },
   {
    "duration": 1011,
    "start_time": "2025-02-14T15:58:08.762Z"
   },
   {
    "duration": 3,
    "start_time": "2025-02-14T15:58:09.776Z"
   },
   {
    "duration": 76,
    "start_time": "2025-02-14T15:58:09.780Z"
   },
   {
    "duration": 14,
    "start_time": "2025-02-14T15:58:09.857Z"
   },
   {
    "duration": 30,
    "start_time": "2025-02-14T15:58:09.873Z"
   },
   {
    "duration": 108,
    "start_time": "2025-02-14T15:58:09.904Z"
   },
   {
    "duration": 6,
    "start_time": "2025-02-14T15:58:10.015Z"
   },
   {
    "duration": 32,
    "start_time": "2025-02-14T15:58:10.022Z"
   },
   {
    "duration": 154,
    "start_time": "2025-02-14T15:58:10.056Z"
   },
   {
    "duration": 127,
    "start_time": "2025-02-14T15:58:10.212Z"
   },
   {
    "duration": 132,
    "start_time": "2025-02-14T15:58:10.342Z"
   },
   {
    "duration": 28,
    "start_time": "2025-02-14T15:58:10.475Z"
   },
   {
    "duration": 29,
    "start_time": "2025-02-14T15:58:10.505Z"
   },
   {
    "duration": 28,
    "start_time": "2025-02-14T15:58:10.556Z"
   },
   {
    "duration": 100,
    "start_time": "2025-02-14T15:58:10.586Z"
   },
   {
    "duration": 35,
    "start_time": "2025-02-14T15:58:10.687Z"
   },
   {
    "duration": 52,
    "start_time": "2025-02-14T15:58:10.723Z"
   },
   {
    "duration": 497,
    "start_time": "2025-02-14T15:58:10.776Z"
   },
   {
    "duration": 3,
    "start_time": "2025-02-14T15:58:11.275Z"
   },
   {
    "duration": 577,
    "start_time": "2025-02-14T15:58:11.279Z"
   },
   {
    "duration": 997,
    "start_time": "2025-02-14T15:58:11.858Z"
   },
   {
    "duration": 790,
    "start_time": "2025-02-14T15:58:12.857Z"
   },
   {
    "duration": 347,
    "start_time": "2025-02-14T15:58:13.649Z"
   },
   {
    "duration": 854,
    "start_time": "2025-02-14T15:58:13.997Z"
   },
   {
    "duration": 51,
    "start_time": "2025-02-14T15:58:22.492Z"
   },
   {
    "duration": 2747,
    "start_time": "2025-02-14T15:58:35.023Z"
   },
   {
    "duration": 1390,
    "start_time": "2025-02-14T15:58:37.773Z"
   },
   {
    "duration": 3,
    "start_time": "2025-02-14T15:58:39.165Z"
   },
   {
    "duration": 967,
    "start_time": "2025-02-14T15:58:39.170Z"
   },
   {
    "duration": 3,
    "start_time": "2025-02-14T15:58:40.140Z"
   },
   {
    "duration": 31,
    "start_time": "2025-02-14T15:58:40.145Z"
   },
   {
    "duration": 6,
    "start_time": "2025-02-14T15:58:40.178Z"
   },
   {
    "duration": 40,
    "start_time": "2025-02-14T15:58:40.185Z"
   },
   {
    "duration": 97,
    "start_time": "2025-02-14T15:58:40.226Z"
   },
   {
    "duration": 6,
    "start_time": "2025-02-14T15:58:40.324Z"
   },
   {
    "duration": 24,
    "start_time": "2025-02-14T15:58:40.332Z"
   },
   {
    "duration": 157,
    "start_time": "2025-02-14T15:58:40.358Z"
   },
   {
    "duration": 115,
    "start_time": "2025-02-14T15:58:40.517Z"
   },
   {
    "duration": 131,
    "start_time": "2025-02-14T15:58:40.635Z"
   },
   {
    "duration": 27,
    "start_time": "2025-02-14T15:58:40.768Z"
   },
   {
    "duration": 27,
    "start_time": "2025-02-14T15:58:40.797Z"
   },
   {
    "duration": 53,
    "start_time": "2025-02-14T15:58:40.827Z"
   },
   {
    "duration": 38,
    "start_time": "2025-02-14T15:58:40.882Z"
   },
   {
    "duration": 58,
    "start_time": "2025-02-14T15:58:40.921Z"
   },
   {
    "duration": 35,
    "start_time": "2025-02-14T15:58:40.981Z"
   },
   {
    "duration": 592,
    "start_time": "2025-02-14T15:58:41.017Z"
   },
   {
    "duration": 3,
    "start_time": "2025-02-14T15:58:41.611Z"
   },
   {
    "duration": 440,
    "start_time": "2025-02-14T15:58:41.616Z"
   },
   {
    "duration": 991,
    "start_time": "2025-02-14T15:58:42.058Z"
   },
   {
    "duration": 801,
    "start_time": "2025-02-14T15:58:43.055Z"
   },
   {
    "duration": 353,
    "start_time": "2025-02-14T15:58:43.857Z"
   },
   {
    "duration": 839,
    "start_time": "2025-02-14T15:58:44.212Z"
   },
   {
    "duration": 2611,
    "start_time": "2025-02-14T16:01:16.338Z"
   },
   {
    "duration": 1401,
    "start_time": "2025-02-14T16:01:18.951Z"
   },
   {
    "duration": 4,
    "start_time": "2025-02-14T16:01:20.354Z"
   },
   {
    "duration": 976,
    "start_time": "2025-02-14T16:01:20.360Z"
   },
   {
    "duration": 3,
    "start_time": "2025-02-14T16:01:21.338Z"
   },
   {
    "duration": 88,
    "start_time": "2025-02-14T16:01:21.354Z"
   },
   {
    "duration": 8,
    "start_time": "2025-02-14T16:01:21.444Z"
   },
   {
    "duration": 41,
    "start_time": "2025-02-14T16:01:21.454Z"
   },
   {
    "duration": 99,
    "start_time": "2025-02-14T16:01:21.497Z"
   },
   {
    "duration": 7,
    "start_time": "2025-02-14T16:01:21.598Z"
   },
   {
    "duration": 43,
    "start_time": "2025-02-14T16:01:21.607Z"
   },
   {
    "duration": 141,
    "start_time": "2025-02-14T16:01:21.652Z"
   },
   {
    "duration": 119,
    "start_time": "2025-02-14T16:01:21.795Z"
   },
   {
    "duration": 138,
    "start_time": "2025-02-14T16:01:21.917Z"
   },
   {
    "duration": 27,
    "start_time": "2025-02-14T16:01:22.057Z"
   },
   {
    "duration": 53,
    "start_time": "2025-02-14T16:01:22.086Z"
   },
   {
    "duration": 56,
    "start_time": "2025-02-14T16:01:22.141Z"
   },
   {
    "duration": 40,
    "start_time": "2025-02-14T16:01:22.199Z"
   },
   {
    "duration": 49,
    "start_time": "2025-02-14T16:01:22.241Z"
   },
   {
    "duration": 69,
    "start_time": "2025-02-14T16:01:22.291Z"
   },
   {
    "duration": 486,
    "start_time": "2025-02-14T16:01:22.361Z"
   },
   {
    "duration": 7,
    "start_time": "2025-02-14T16:01:22.849Z"
   },
   {
    "duration": 428,
    "start_time": "2025-02-14T16:01:22.857Z"
   },
   {
    "duration": 128,
    "start_time": "2025-02-14T16:01:23.287Z"
   },
   {
    "duration": 0,
    "start_time": "2025-02-14T16:01:23.416Z"
   },
   {
    "duration": 0,
    "start_time": "2025-02-14T16:01:23.418Z"
   },
   {
    "duration": 0,
    "start_time": "2025-02-14T16:01:23.419Z"
   },
   {
    "duration": 0,
    "start_time": "2025-02-14T16:01:23.420Z"
   },
   {
    "duration": 0,
    "start_time": "2025-02-14T16:01:23.421Z"
   },
   {
    "duration": 21,
    "start_time": "2025-02-14T16:01:41.935Z"
   },
   {
    "duration": 20176,
    "start_time": "2025-02-15T09:39:42.331Z"
   },
   {
    "duration": 1477,
    "start_time": "2025-02-15T09:40:02.510Z"
   },
   {
    "duration": 3,
    "start_time": "2025-02-15T09:40:03.989Z"
   },
   {
    "duration": 918,
    "start_time": "2025-02-15T09:40:03.994Z"
   },
   {
    "duration": 3,
    "start_time": "2025-02-15T09:40:04.915Z"
   },
   {
    "duration": 83,
    "start_time": "2025-02-15T09:40:04.920Z"
   },
   {
    "duration": 14,
    "start_time": "2025-02-15T09:40:05.005Z"
   },
   {
    "duration": 131,
    "start_time": "2025-02-15T09:40:05.021Z"
   },
   {
    "duration": 90,
    "start_time": "2025-02-15T09:40:05.154Z"
   },
   {
    "duration": 6,
    "start_time": "2025-02-15T09:40:05.246Z"
   },
   {
    "duration": 4,
    "start_time": "2025-02-15T09:40:05.254Z"
   },
   {
    "duration": 148,
    "start_time": "2025-02-15T09:40:05.260Z"
   },
   {
    "duration": 92,
    "start_time": "2025-02-15T09:40:05.413Z"
   },
   {
    "duration": 110,
    "start_time": "2025-02-15T09:40:05.515Z"
   },
   {
    "duration": 23,
    "start_time": "2025-02-15T09:40:05.627Z"
   },
   {
    "duration": 27,
    "start_time": "2025-02-15T09:40:05.652Z"
   },
   {
    "duration": 50,
    "start_time": "2025-02-15T09:40:05.681Z"
   },
   {
    "duration": 32,
    "start_time": "2025-02-15T09:40:05.732Z"
   },
   {
    "duration": 30,
    "start_time": "2025-02-15T09:40:05.766Z"
   },
   {
    "duration": 45,
    "start_time": "2025-02-15T09:40:05.798Z"
   },
   {
    "duration": 499,
    "start_time": "2025-02-15T09:40:05.845Z"
   },
   {
    "duration": 3,
    "start_time": "2025-02-15T09:40:06.345Z"
   },
   {
    "duration": 382,
    "start_time": "2025-02-15T09:40:06.350Z"
   },
   {
    "duration": 31,
    "start_time": "2025-02-15T09:40:06.734Z"
   },
   {
    "duration": 142,
    "start_time": "2025-02-15T09:40:06.767Z"
   },
   {
    "duration": 0,
    "start_time": "2025-02-15T09:40:06.911Z"
   },
   {
    "duration": 0,
    "start_time": "2025-02-15T09:40:06.914Z"
   },
   {
    "duration": 0,
    "start_time": "2025-02-15T09:40:06.915Z"
   },
   {
    "duration": 0,
    "start_time": "2025-02-15T09:40:06.916Z"
   },
   {
    "duration": 0,
    "start_time": "2025-02-15T09:40:06.918Z"
   },
   {
    "duration": 32,
    "start_time": "2025-02-15T09:45:16.088Z"
   },
   {
    "duration": 10,
    "start_time": "2025-02-15T09:45:24.948Z"
   },
   {
    "duration": 29,
    "start_time": "2025-02-15T09:45:27.986Z"
   },
   {
    "duration": 201,
    "start_time": "2025-02-15T09:47:32.397Z"
   },
   {
    "duration": 31,
    "start_time": "2025-02-15T09:47:35.053Z"
   },
   {
    "duration": 159,
    "start_time": "2025-02-15T09:48:24.854Z"
   },
   {
    "duration": 17,
    "start_time": "2025-02-15T09:48:27.561Z"
   },
   {
    "duration": 901,
    "start_time": "2025-02-15T09:48:30.163Z"
   },
   {
    "duration": 341,
    "start_time": "2025-02-15T09:49:59.066Z"
   },
   {
    "duration": 31,
    "start_time": "2025-02-15T09:50:11.475Z"
   },
   {
    "duration": 16,
    "start_time": "2025-02-15T09:50:54.651Z"
   },
   {
    "duration": 12,
    "start_time": "2025-02-15T09:51:01.845Z"
   },
   {
    "duration": 10,
    "start_time": "2025-02-15T09:51:08.393Z"
   },
   {
    "duration": 2532,
    "start_time": "2025-02-15T09:51:16.119Z"
   },
   {
    "duration": 1216,
    "start_time": "2025-02-15T09:51:18.654Z"
   },
   {
    "duration": 3,
    "start_time": "2025-02-15T09:51:19.871Z"
   },
   {
    "duration": 832,
    "start_time": "2025-02-15T09:51:19.875Z"
   },
   {
    "duration": 2,
    "start_time": "2025-02-15T09:51:20.713Z"
   },
   {
    "duration": 5,
    "start_time": "2025-02-15T09:51:20.717Z"
   },
   {
    "duration": 4,
    "start_time": "2025-02-15T09:51:20.723Z"
   },
   {
    "duration": 26,
    "start_time": "2025-02-15T09:51:20.728Z"
   },
   {
    "duration": 112,
    "start_time": "2025-02-15T09:51:20.756Z"
   },
   {
    "duration": 6,
    "start_time": "2025-02-15T09:51:20.869Z"
   },
   {
    "duration": 5,
    "start_time": "2025-02-15T09:51:20.876Z"
   },
   {
    "duration": 141,
    "start_time": "2025-02-15T09:51:20.882Z"
   },
   {
    "duration": 98,
    "start_time": "2025-02-15T09:51:21.024Z"
   },
   {
    "duration": 112,
    "start_time": "2025-02-15T09:51:21.125Z"
   },
   {
    "duration": 23,
    "start_time": "2025-02-15T09:51:21.239Z"
   },
   {
    "duration": 22,
    "start_time": "2025-02-15T09:51:21.263Z"
   },
   {
    "duration": 39,
    "start_time": "2025-02-15T09:51:21.286Z"
   },
   {
    "duration": 49,
    "start_time": "2025-02-15T09:51:21.326Z"
   },
   {
    "duration": 48,
    "start_time": "2025-02-15T09:51:21.377Z"
   },
   {
    "duration": 28,
    "start_time": "2025-02-15T09:51:21.427Z"
   },
   {
    "duration": 486,
    "start_time": "2025-02-15T09:51:21.456Z"
   },
   {
    "duration": 3,
    "start_time": "2025-02-15T09:51:21.943Z"
   },
   {
    "duration": 42,
    "start_time": "2025-02-15T09:51:21.948Z"
   },
   {
    "duration": 32,
    "start_time": "2025-02-15T09:51:21.991Z"
   },
   {
    "duration": 938,
    "start_time": "2025-02-15T09:51:22.024Z"
   },
   {
    "duration": 822,
    "start_time": "2025-02-15T09:51:22.964Z"
   },
   {
    "duration": 843,
    "start_time": "2025-02-15T09:51:23.788Z"
   },
   {
    "duration": 37,
    "start_time": "2025-02-15T09:51:24.633Z"
   },
   {
    "duration": 783,
    "start_time": "2025-02-15T09:51:24.672Z"
   },
   {
    "duration": 769,
    "start_time": "2025-02-15T09:51:25.457Z"
   },
   {
    "duration": 877,
    "start_time": "2025-02-15T09:51:51.917Z"
   },
   {
    "duration": 758,
    "start_time": "2025-02-15T09:51:57.255Z"
   },
   {
    "duration": 15,
    "start_time": "2025-02-15T09:52:50.110Z"
   },
   {
    "duration": 125,
    "start_time": "2025-02-15T09:53:06.497Z"
   },
   {
    "duration": 89,
    "start_time": "2025-02-15T09:53:28.132Z"
   },
   {
    "duration": 16,
    "start_time": "2025-02-15T09:54:08.796Z"
   },
   {
    "duration": 17,
    "start_time": "2025-02-15T09:54:14.079Z"
   },
   {
    "duration": 17,
    "start_time": "2025-02-15T09:54:18.006Z"
   },
   {
    "duration": 10,
    "start_time": "2025-02-15T09:55:37.481Z"
   },
   {
    "duration": 39,
    "start_time": "2025-02-15T09:59:16.740Z"
   },
   {
    "duration": 990,
    "start_time": "2025-02-15T09:59:18.010Z"
   },
   {
    "duration": 872,
    "start_time": "2025-02-15T10:01:47.467Z"
   },
   {
    "duration": 423,
    "start_time": "2025-02-15T10:09:56.476Z"
   },
   {
    "duration": 6,
    "start_time": "2025-02-15T10:10:05.707Z"
   },
   {
    "duration": 5,
    "start_time": "2025-02-15T12:01:27.968Z"
   },
   {
    "duration": 10,
    "start_time": "2025-02-15T12:01:30.418Z"
   },
   {
    "duration": 15,
    "start_time": "2025-02-15T12:04:23.864Z"
   },
   {
    "duration": 12,
    "start_time": "2025-02-15T12:04:42.395Z"
   },
   {
    "duration": 120,
    "start_time": "2025-02-15T12:04:52.293Z"
   },
   {
    "duration": 13,
    "start_time": "2025-02-15T12:05:23.318Z"
   },
   {
    "duration": 13,
    "start_time": "2025-02-15T12:05:31.377Z"
   },
   {
    "duration": 12,
    "start_time": "2025-02-15T12:05:42.291Z"
   },
   {
    "duration": 2554,
    "start_time": "2025-02-15T12:06:04.438Z"
   },
   {
    "duration": 1761,
    "start_time": "2025-02-15T12:06:06.995Z"
   },
   {
    "duration": 0,
    "start_time": "2025-02-15T12:06:08.760Z"
   },
   {
    "duration": 0,
    "start_time": "2025-02-15T12:06:08.761Z"
   },
   {
    "duration": 0,
    "start_time": "2025-02-15T12:06:08.762Z"
   },
   {
    "duration": 0,
    "start_time": "2025-02-15T12:06:08.764Z"
   },
   {
    "duration": 0,
    "start_time": "2025-02-15T12:06:08.765Z"
   },
   {
    "duration": 0,
    "start_time": "2025-02-15T12:06:08.766Z"
   },
   {
    "duration": 0,
    "start_time": "2025-02-15T12:06:08.767Z"
   },
   {
    "duration": 0,
    "start_time": "2025-02-15T12:06:08.768Z"
   },
   {
    "duration": 0,
    "start_time": "2025-02-15T12:06:08.770Z"
   },
   {
    "duration": 0,
    "start_time": "2025-02-15T12:06:08.771Z"
   },
   {
    "duration": 0,
    "start_time": "2025-02-15T12:06:08.772Z"
   },
   {
    "duration": 0,
    "start_time": "2025-02-15T12:06:08.773Z"
   },
   {
    "duration": 0,
    "start_time": "2025-02-15T12:06:08.774Z"
   },
   {
    "duration": 0,
    "start_time": "2025-02-15T12:06:08.775Z"
   },
   {
    "duration": 0,
    "start_time": "2025-02-15T12:06:08.776Z"
   },
   {
    "duration": 0,
    "start_time": "2025-02-15T12:06:08.777Z"
   },
   {
    "duration": 0,
    "start_time": "2025-02-15T12:06:08.778Z"
   },
   {
    "duration": 0,
    "start_time": "2025-02-15T12:06:08.779Z"
   },
   {
    "duration": 0,
    "start_time": "2025-02-15T12:06:08.780Z"
   },
   {
    "duration": 0,
    "start_time": "2025-02-15T12:06:08.781Z"
   },
   {
    "duration": 0,
    "start_time": "2025-02-15T12:06:08.814Z"
   },
   {
    "duration": 0,
    "start_time": "2025-02-15T12:06:08.816Z"
   },
   {
    "duration": 0,
    "start_time": "2025-02-15T12:06:08.818Z"
   },
   {
    "duration": 0,
    "start_time": "2025-02-15T12:06:08.819Z"
   },
   {
    "duration": 0,
    "start_time": "2025-02-15T12:06:08.821Z"
   },
   {
    "duration": 0,
    "start_time": "2025-02-15T12:06:08.822Z"
   },
   {
    "duration": 0,
    "start_time": "2025-02-15T12:06:08.824Z"
   },
   {
    "duration": 0,
    "start_time": "2025-02-15T12:06:08.826Z"
   },
   {
    "duration": 0,
    "start_time": "2025-02-15T12:06:08.827Z"
   },
   {
    "duration": 0,
    "start_time": "2025-02-15T12:06:08.829Z"
   },
   {
    "duration": 0,
    "start_time": "2025-02-15T12:06:08.830Z"
   },
   {
    "duration": 0,
    "start_time": "2025-02-15T12:06:08.832Z"
   },
   {
    "duration": 0,
    "start_time": "2025-02-15T12:06:08.833Z"
   },
   {
    "duration": 0,
    "start_time": "2025-02-15T12:06:08.834Z"
   },
   {
    "duration": 12,
    "start_time": "2025-02-15T12:06:39.468Z"
   },
   {
    "duration": 13,
    "start_time": "2025-02-15T12:07:23.940Z"
   },
   {
    "duration": 12,
    "start_time": "2025-02-15T12:07:35.418Z"
   },
   {
    "duration": 9,
    "start_time": "2025-02-15T12:08:51.780Z"
   },
   {
    "duration": 5,
    "start_time": "2025-02-15T12:09:02.891Z"
   },
   {
    "duration": 2830,
    "start_time": "2025-02-15T12:10:12.352Z"
   },
   {
    "duration": 4,
    "start_time": "2025-02-15T12:10:21.054Z"
   },
   {
    "duration": 2472,
    "start_time": "2025-02-15T12:10:32.500Z"
   },
   {
    "duration": 1438,
    "start_time": "2025-02-15T12:10:34.974Z"
   },
   {
    "duration": 2493,
    "start_time": "2025-02-15T12:10:36.413Z"
   },
   {
    "duration": 7,
    "start_time": "2025-02-15T12:10:38.908Z"
   },
   {
    "duration": 57,
    "start_time": "2025-02-15T12:10:38.917Z"
   },
   {
    "duration": 823,
    "start_time": "2025-02-15T12:10:38.976Z"
   },
   {
    "duration": 3,
    "start_time": "2025-02-15T12:10:39.801Z"
   },
   {
    "duration": 2,
    "start_time": "2025-02-15T12:10:39.813Z"
   },
   {
    "duration": 89,
    "start_time": "2025-02-15T12:10:39.817Z"
   },
   {
    "duration": 29,
    "start_time": "2025-02-15T12:10:39.908Z"
   },
   {
    "duration": 104,
    "start_time": "2025-02-15T12:10:39.939Z"
   },
   {
    "duration": 7,
    "start_time": "2025-02-15T12:10:40.045Z"
   },
   {
    "duration": 4,
    "start_time": "2025-02-15T12:10:40.054Z"
   },
   {
    "duration": 141,
    "start_time": "2025-02-15T12:10:40.061Z"
   },
   {
    "duration": 102,
    "start_time": "2025-02-15T12:10:40.204Z"
   },
   {
    "duration": 108,
    "start_time": "2025-02-15T12:10:40.313Z"
   },
   {
    "duration": 24,
    "start_time": "2025-02-15T12:10:40.422Z"
   },
   {
    "duration": 23,
    "start_time": "2025-02-15T12:10:40.448Z"
   },
   {
    "duration": 43,
    "start_time": "2025-02-15T12:10:40.472Z"
   },
   {
    "duration": 80,
    "start_time": "2025-02-15T12:10:40.517Z"
   },
   {
    "duration": 38,
    "start_time": "2025-02-15T12:10:40.599Z"
   },
   {
    "duration": 30,
    "start_time": "2025-02-15T12:10:40.639Z"
   },
   {
    "duration": 480,
    "start_time": "2025-02-15T12:10:40.671Z"
   },
   {
    "duration": 2,
    "start_time": "2025-02-15T12:10:41.153Z"
   },
   {
    "duration": 57,
    "start_time": "2025-02-15T12:10:41.157Z"
   },
   {
    "duration": 997,
    "start_time": "2025-02-15T12:10:41.216Z"
   },
   {
    "duration": 804,
    "start_time": "2025-02-15T12:10:42.215Z"
   },
   {
    "duration": 38,
    "start_time": "2025-02-15T12:10:43.021Z"
   },
   {
    "duration": 943,
    "start_time": "2025-02-15T12:10:43.061Z"
   },
   {
    "duration": 784,
    "start_time": "2025-02-15T12:10:44.013Z"
   },
   {
    "duration": 44,
    "start_time": "2025-02-15T12:10:44.799Z"
   },
   {
    "duration": 905,
    "start_time": "2025-02-15T12:10:44.845Z"
   },
   {
    "duration": 868,
    "start_time": "2025-02-15T12:10:45.752Z"
   },
   {
    "duration": 4,
    "start_time": "2025-02-15T12:10:46.622Z"
   },
   {
    "duration": 48,
    "start_time": "2025-02-15T12:10:46.628Z"
   },
   {
    "duration": 14,
    "start_time": "2025-02-15T12:10:46.678Z"
   },
   {
    "duration": 21,
    "start_time": "2025-02-15T12:10:46.693Z"
   },
   {
    "duration": 305,
    "start_time": "2025-02-15T12:10:46.716Z"
   },
   {
    "duration": 12,
    "start_time": "2025-02-15T12:10:48.150Z"
   },
   {
    "duration": 10466,
    "start_time": "2025-02-15T12:12:02.452Z"
   },
   {
    "duration": 4,
    "start_time": "2025-02-15T12:12:19.221Z"
   },
   {
    "duration": 18,
    "start_time": "2025-02-15T12:12:22.193Z"
   },
   {
    "duration": 3143,
    "start_time": "2025-02-15T12:12:24.770Z"
   },
   {
    "duration": 3094,
    "start_time": "2025-02-15T12:14:14.878Z"
   },
   {
    "duration": 4,
    "start_time": "2025-02-15T12:14:30.541Z"
   },
   {
    "duration": 18,
    "start_time": "2025-02-15T12:15:01.289Z"
   },
   {
    "duration": 5,
    "start_time": "2025-02-15T12:16:00.314Z"
   },
   {
    "duration": 5,
    "start_time": "2025-02-15T12:16:06.567Z"
   },
   {
    "duration": 282,
    "start_time": "2025-02-15T12:17:04.890Z"
   },
   {
    "duration": 6,
    "start_time": "2025-02-15T12:21:27.324Z"
   },
   {
    "duration": 12,
    "start_time": "2025-02-15T12:21:28.369Z"
   },
   {
    "duration": 78,
    "start_time": "2025-02-15T12:21:30.738Z"
   },
   {
    "duration": 5,
    "start_time": "2025-02-15T12:21:31.514Z"
   },
   {
    "duration": 2523,
    "start_time": "2025-02-15T12:22:03.408Z"
   },
   {
    "duration": 1379,
    "start_time": "2025-02-15T12:22:05.933Z"
   },
   {
    "duration": 3347,
    "start_time": "2025-02-15T12:22:07.314Z"
   },
   {
    "duration": 8,
    "start_time": "2025-02-15T12:22:10.664Z"
   },
   {
    "duration": 3,
    "start_time": "2025-02-15T12:22:10.674Z"
   },
   {
    "duration": 830,
    "start_time": "2025-02-15T12:22:10.678Z"
   },
   {
    "duration": 3,
    "start_time": "2025-02-15T12:22:11.510Z"
   },
   {
    "duration": 32,
    "start_time": "2025-02-15T12:22:11.515Z"
   },
   {
    "duration": 9,
    "start_time": "2025-02-15T12:22:11.548Z"
   },
   {
    "duration": 25,
    "start_time": "2025-02-15T12:22:11.560Z"
   },
   {
    "duration": 90,
    "start_time": "2025-02-15T12:22:11.587Z"
   },
   {
    "duration": 6,
    "start_time": "2025-02-15T12:22:11.678Z"
   },
   {
    "duration": 29,
    "start_time": "2025-02-15T12:22:11.685Z"
   },
   {
    "duration": 113,
    "start_time": "2025-02-15T12:22:11.716Z"
   },
   {
    "duration": 98,
    "start_time": "2025-02-15T12:22:11.830Z"
   },
   {
    "duration": 111,
    "start_time": "2025-02-15T12:22:11.930Z"
   },
   {
    "duration": 22,
    "start_time": "2025-02-15T12:22:12.043Z"
   },
   {
    "duration": 21,
    "start_time": "2025-02-15T12:22:12.067Z"
   },
   {
    "duration": 42,
    "start_time": "2025-02-15T12:22:12.090Z"
   },
   {
    "duration": 28,
    "start_time": "2025-02-15T12:22:12.133Z"
   },
   {
    "duration": 50,
    "start_time": "2025-02-15T12:22:12.163Z"
   },
   {
    "duration": 32,
    "start_time": "2025-02-15T12:22:12.215Z"
   },
   {
    "duration": 498,
    "start_time": "2025-02-15T12:22:12.249Z"
   },
   {
    "duration": 2,
    "start_time": "2025-02-15T12:22:12.749Z"
   },
   {
    "duration": 43,
    "start_time": "2025-02-15T12:22:12.753Z"
   },
   {
    "duration": 966,
    "start_time": "2025-02-15T12:22:12.798Z"
   },
   {
    "duration": 950,
    "start_time": "2025-02-15T12:22:13.766Z"
   },
   {
    "duration": 36,
    "start_time": "2025-02-15T12:22:14.719Z"
   },
   {
    "duration": 943,
    "start_time": "2025-02-15T12:22:14.756Z"
   },
   {
    "duration": 797,
    "start_time": "2025-02-15T12:22:15.701Z"
   },
   {
    "duration": 62,
    "start_time": "2025-02-15T12:22:16.500Z"
   },
   {
    "duration": 920,
    "start_time": "2025-02-15T12:22:16.565Z"
   },
   {
    "duration": 731,
    "start_time": "2025-02-15T12:22:17.487Z"
   },
   {
    "duration": 4,
    "start_time": "2025-02-15T12:22:18.220Z"
   },
   {
    "duration": 12,
    "start_time": "2025-02-15T12:22:18.226Z"
   },
   {
    "duration": 15,
    "start_time": "2025-02-15T12:22:18.240Z"
   },
   {
    "duration": 61,
    "start_time": "2025-02-15T12:22:18.257Z"
   },
   {
    "duration": 96,
    "start_time": "2025-02-15T12:22:18.320Z"
   },
   {
    "duration": 466,
    "start_time": "2025-02-15T12:22:18.419Z"
   },
   {
    "duration": 11,
    "start_time": "2025-02-15T12:23:40.054Z"
   },
   {
    "duration": 15,
    "start_time": "2025-02-15T12:23:41.736Z"
   },
   {
    "duration": 11,
    "start_time": "2025-02-15T12:23:49.395Z"
   },
   {
    "duration": 4,
    "start_time": "2025-02-15T12:26:34.294Z"
   },
   {
    "duration": 12,
    "start_time": "2025-02-15T12:26:34.626Z"
   },
   {
    "duration": 12,
    "start_time": "2025-02-15T12:26:35.170Z"
   },
   {
    "duration": 18,
    "start_time": "2025-02-15T12:26:35.647Z"
   },
   {
    "duration": 7,
    "start_time": "2025-02-15T12:26:36.311Z"
   },
   {
    "duration": 8,
    "start_time": "2025-02-15T12:29:46.532Z"
   },
   {
    "duration": 6,
    "start_time": "2025-02-15T12:29:58.915Z"
   },
   {
    "duration": 5,
    "start_time": "2025-02-15T12:30:17.523Z"
   },
   {
    "duration": 13,
    "start_time": "2025-02-15T12:32:02.395Z"
   },
   {
    "duration": 4,
    "start_time": "2025-02-15T12:35:25.330Z"
   },
   {
    "duration": 4,
    "start_time": "2025-02-15T12:35:25.885Z"
   },
   {
    "duration": 334,
    "start_time": "2025-02-15T12:35:26.489Z"
   },
   {
    "duration": 4,
    "start_time": "2025-02-15T12:35:40.872Z"
   },
   {
    "duration": 197,
    "start_time": "2025-02-15T12:35:41.218Z"
   },
   {
    "duration": 22,
    "start_time": "2025-02-15T12:35:53.957Z"
   },
   {
    "duration": 12,
    "start_time": "2025-02-15T12:37:05.394Z"
   },
   {
    "duration": 3,
    "start_time": "2025-02-15T12:37:05.694Z"
   },
   {
    "duration": 14,
    "start_time": "2025-02-15T12:37:05.995Z"
   },
   {
    "duration": 31,
    "start_time": "2025-02-15T12:39:36.255Z"
   },
   {
    "duration": 4,
    "start_time": "2025-02-15T12:39:36.847Z"
   },
   {
    "duration": 232,
    "start_time": "2025-02-15T12:39:37.183Z"
   },
   {
    "duration": 201,
    "start_time": "2025-02-15T12:39:51.815Z"
   },
   {
    "duration": 210,
    "start_time": "2025-02-15T12:40:24.205Z"
   },
   {
    "duration": 31,
    "start_time": "2025-02-15T12:40:47.826Z"
   },
   {
    "duration": 3,
    "start_time": "2025-02-15T12:40:48.173Z"
   },
   {
    "duration": 135,
    "start_time": "2025-02-15T12:40:48.482Z"
   },
   {
    "duration": 2577,
    "start_time": "2025-02-15T12:43:19.187Z"
   },
   {
    "duration": 1335,
    "start_time": "2025-02-15T12:43:21.767Z"
   },
   {
    "duration": 3204,
    "start_time": "2025-02-15T12:43:23.103Z"
   },
   {
    "duration": 9,
    "start_time": "2025-02-15T12:43:26.310Z"
   },
   {
    "duration": 9,
    "start_time": "2025-02-15T12:43:26.320Z"
   },
   {
    "duration": 855,
    "start_time": "2025-02-15T12:43:26.330Z"
   },
   {
    "duration": 3,
    "start_time": "2025-02-15T12:43:27.187Z"
   },
   {
    "duration": 6,
    "start_time": "2025-02-15T12:43:27.191Z"
   },
   {
    "duration": 4,
    "start_time": "2025-02-15T12:43:27.199Z"
   },
   {
    "duration": 25,
    "start_time": "2025-02-15T12:43:27.215Z"
   },
   {
    "duration": 108,
    "start_time": "2025-02-15T12:43:27.242Z"
   },
   {
    "duration": 5,
    "start_time": "2025-02-15T12:43:27.352Z"
   },
   {
    "duration": 3,
    "start_time": "2025-02-15T12:43:27.359Z"
   },
   {
    "duration": 136,
    "start_time": "2025-02-15T12:43:27.364Z"
   },
   {
    "duration": 93,
    "start_time": "2025-02-15T12:43:27.502Z"
   },
   {
    "duration": 107,
    "start_time": "2025-02-15T12:43:27.597Z"
   },
   {
    "duration": 25,
    "start_time": "2025-02-15T12:43:27.706Z"
   },
   {
    "duration": 20,
    "start_time": "2025-02-15T12:43:27.732Z"
   },
   {
    "duration": 19,
    "start_time": "2025-02-15T12:43:27.754Z"
   },
   {
    "duration": 58,
    "start_time": "2025-02-15T12:43:27.775Z"
   },
   {
    "duration": 30,
    "start_time": "2025-02-15T12:43:27.834Z"
   },
   {
    "duration": 48,
    "start_time": "2025-02-15T12:43:27.866Z"
   },
   {
    "duration": 505,
    "start_time": "2025-02-15T12:43:27.915Z"
   },
   {
    "duration": 3,
    "start_time": "2025-02-15T12:43:28.422Z"
   },
   {
    "duration": 40,
    "start_time": "2025-02-15T12:43:28.427Z"
   },
   {
    "duration": 958,
    "start_time": "2025-02-15T12:43:28.469Z"
   },
   {
    "duration": 901,
    "start_time": "2025-02-15T12:43:29.429Z"
   },
   {
    "duration": 39,
    "start_time": "2025-02-15T12:43:30.333Z"
   },
   {
    "duration": 961,
    "start_time": "2025-02-15T12:43:30.374Z"
   },
   {
    "duration": 769,
    "start_time": "2025-02-15T12:43:31.337Z"
   },
   {
    "duration": 42,
    "start_time": "2025-02-15T12:43:32.108Z"
   },
   {
    "duration": 959,
    "start_time": "2025-02-15T12:43:32.152Z"
   },
   {
    "duration": 791,
    "start_time": "2025-02-15T12:43:33.114Z"
   },
   {
    "duration": 132,
    "start_time": "2025-02-15T12:43:33.913Z"
   },
   {
    "duration": 0,
    "start_time": "2025-02-15T12:43:34.046Z"
   },
   {
    "duration": 0,
    "start_time": "2025-02-15T12:43:34.048Z"
   },
   {
    "duration": 0,
    "start_time": "2025-02-15T12:43:34.049Z"
   },
   {
    "duration": 4989,
    "start_time": "2025-02-15T16:04:16.375Z"
   },
   {
    "duration": 1819,
    "start_time": "2025-02-15T16:04:21.367Z"
   },
   {
    "duration": 2678,
    "start_time": "2025-02-15T16:05:09.036Z"
   },
   {
    "duration": 1543,
    "start_time": "2025-02-15T16:05:11.717Z"
   },
   {
    "duration": 3,
    "start_time": "2025-02-15T16:05:13.262Z"
   },
   {
    "duration": 954,
    "start_time": "2025-02-15T16:05:13.266Z"
   },
   {
    "duration": 3,
    "start_time": "2025-02-15T16:05:14.223Z"
   },
   {
    "duration": 4,
    "start_time": "2025-02-15T16:05:14.228Z"
   },
   {
    "duration": 5,
    "start_time": "2025-02-15T16:05:14.234Z"
   },
   {
    "duration": 31,
    "start_time": "2025-02-15T16:05:14.241Z"
   },
   {
    "duration": 133,
    "start_time": "2025-02-15T16:05:14.274Z"
   },
   {
    "duration": 6,
    "start_time": "2025-02-15T16:05:14.408Z"
   },
   {
    "duration": 6,
    "start_time": "2025-02-15T16:05:14.416Z"
   },
   {
    "duration": 134,
    "start_time": "2025-02-15T16:05:14.424Z"
   },
   {
    "duration": 121,
    "start_time": "2025-02-15T16:05:14.560Z"
   },
   {
    "duration": 114,
    "start_time": "2025-02-15T16:05:14.685Z"
   },
   {
    "duration": 24,
    "start_time": "2025-02-15T16:05:14.801Z"
   },
   {
    "duration": 30,
    "start_time": "2025-02-15T16:05:14.826Z"
   },
   {
    "duration": 47,
    "start_time": "2025-02-15T16:05:14.857Z"
   },
   {
    "duration": 38,
    "start_time": "2025-02-15T16:05:14.906Z"
   },
   {
    "duration": 56,
    "start_time": "2025-02-15T16:05:14.945Z"
   },
   {
    "duration": 41,
    "start_time": "2025-02-15T16:05:15.003Z"
   },
   {
    "duration": 517,
    "start_time": "2025-02-15T16:05:15.046Z"
   },
   {
    "duration": 4,
    "start_time": "2025-02-15T16:05:15.565Z"
   },
   {
    "duration": 91,
    "start_time": "2025-02-15T16:05:15.571Z"
   },
   {
    "duration": 1023,
    "start_time": "2025-02-15T16:05:15.664Z"
   },
   {
    "duration": 799,
    "start_time": "2025-02-15T16:05:16.689Z"
   },
   {
    "duration": 49,
    "start_time": "2025-02-15T16:05:17.490Z"
   },
   {
    "duration": 952,
    "start_time": "2025-02-15T16:05:17.541Z"
   },
   {
    "duration": 821,
    "start_time": "2025-02-15T16:05:18.499Z"
   },
   {
    "duration": 42,
    "start_time": "2025-02-15T16:05:19.322Z"
   },
   {
    "duration": 958,
    "start_time": "2025-02-15T16:05:19.365Z"
   },
   {
    "duration": 962,
    "start_time": "2025-02-15T16:05:20.325Z"
   },
   {
    "duration": 38,
    "start_time": "2025-02-15T16:05:21.288Z"
   },
   {
    "duration": 52,
    "start_time": "2025-02-15T16:05:21.328Z"
   },
   {
    "duration": 124,
    "start_time": "2025-02-15T16:05:21.382Z"
   },
   {
    "duration": 94,
    "start_time": "2025-02-15T16:05:21.508Z"
   },
   {
    "duration": 7,
    "start_time": "2025-02-15T16:16:24.879Z"
   },
   {
    "duration": 7,
    "start_time": "2025-02-15T16:17:33.238Z"
   },
   {
    "duration": 8,
    "start_time": "2025-02-15T16:17:57.955Z"
   },
   {
    "duration": 10,
    "start_time": "2025-02-15T16:33:41.972Z"
   },
   {
    "duration": 15,
    "start_time": "2025-02-15T16:33:53.487Z"
   },
   {
    "duration": 113,
    "start_time": "2025-02-15T17:01:10.997Z"
   },
   {
    "duration": 3,
    "start_time": "2025-02-15T17:01:18.689Z"
   },
   {
    "duration": 3,
    "start_time": "2025-02-15T17:02:29.025Z"
   },
   {
    "duration": 3,
    "start_time": "2025-02-15T17:02:35.533Z"
   },
   {
    "duration": 4,
    "start_time": "2025-02-15T17:02:36.021Z"
   },
   {
    "duration": 3,
    "start_time": "2025-02-15T17:03:08.947Z"
   },
   {
    "duration": 4,
    "start_time": "2025-02-15T17:03:09.385Z"
   },
   {
    "duration": 11,
    "start_time": "2025-02-15T17:03:21.583Z"
   },
   {
    "duration": 5,
    "start_time": "2025-02-15T17:03:34.325Z"
   },
   {
    "duration": 4,
    "start_time": "2025-02-15T17:05:18.235Z"
   },
   {
    "duration": 5,
    "start_time": "2025-02-15T17:05:19.245Z"
   },
   {
    "duration": 58,
    "start_time": "2025-02-16T09:10:56.563Z"
   },
   {
    "duration": 3547,
    "start_time": "2025-02-16T09:11:05.044Z"
   },
   {
    "duration": 1763,
    "start_time": "2025-02-16T09:11:08.593Z"
   },
   {
    "duration": 4,
    "start_time": "2025-02-16T09:11:10.358Z"
   },
   {
    "duration": 925,
    "start_time": "2025-02-16T09:11:10.364Z"
   },
   {
    "duration": 8,
    "start_time": "2025-02-16T09:11:11.291Z"
   },
   {
    "duration": 2,
    "start_time": "2025-02-16T09:11:11.301Z"
   },
   {
    "duration": 65,
    "start_time": "2025-02-16T09:11:11.305Z"
   },
   {
    "duration": 67,
    "start_time": "2025-02-16T09:11:11.372Z"
   },
   {
    "duration": 91,
    "start_time": "2025-02-16T09:11:11.441Z"
   },
   {
    "duration": 6,
    "start_time": "2025-02-16T09:11:11.534Z"
   },
   {
    "duration": 4,
    "start_time": "2025-02-16T09:11:11.541Z"
   },
   {
    "duration": 141,
    "start_time": "2025-02-16T09:11:11.546Z"
   },
   {
    "duration": 110,
    "start_time": "2025-02-16T09:11:11.689Z"
   },
   {
    "duration": 119,
    "start_time": "2025-02-16T09:11:11.802Z"
   },
   {
    "duration": 25,
    "start_time": "2025-02-16T09:11:11.922Z"
   },
   {
    "duration": 27,
    "start_time": "2025-02-16T09:11:11.949Z"
   },
   {
    "duration": 43,
    "start_time": "2025-02-16T09:11:11.977Z"
   },
   {
    "duration": 34,
    "start_time": "2025-02-16T09:11:12.021Z"
   },
   {
    "duration": 55,
    "start_time": "2025-02-16T09:11:12.057Z"
   },
   {
    "duration": 60,
    "start_time": "2025-02-16T09:11:12.114Z"
   },
   {
    "duration": 490,
    "start_time": "2025-02-16T09:11:12.176Z"
   },
   {
    "duration": 3,
    "start_time": "2025-02-16T09:11:12.667Z"
   },
   {
    "duration": 54,
    "start_time": "2025-02-16T09:11:12.671Z"
   },
   {
    "duration": 995,
    "start_time": "2025-02-16T09:11:12.727Z"
   },
   {
    "duration": 883,
    "start_time": "2025-02-16T09:11:13.724Z"
   },
   {
    "duration": 41,
    "start_time": "2025-02-16T09:11:14.609Z"
   },
   {
    "duration": 969,
    "start_time": "2025-02-16T09:11:14.652Z"
   },
   {
    "duration": 765,
    "start_time": "2025-02-16T09:11:15.623Z"
   },
   {
    "duration": 44,
    "start_time": "2025-02-16T09:11:16.390Z"
   },
   {
    "duration": 1034,
    "start_time": "2025-02-16T09:11:16.435Z"
   },
   {
    "duration": 833,
    "start_time": "2025-02-16T09:11:17.471Z"
   },
   {
    "duration": 29,
    "start_time": "2025-02-16T09:11:18.305Z"
   },
   {
    "duration": 3,
    "start_time": "2025-02-16T09:11:18.335Z"
   },
   {
    "duration": 164,
    "start_time": "2025-02-16T09:11:18.340Z"
   },
   {
    "duration": 100,
    "start_time": "2025-02-16T09:11:18.507Z"
   },
   {
    "duration": 4,
    "start_time": "2025-02-16T09:11:18.610Z"
   },
   {
    "duration": 8,
    "start_time": "2025-02-16T09:11:18.700Z"
   },
   {
    "duration": 131,
    "start_time": "2025-02-16T09:11:18.710Z"
   },
   {
    "duration": 4,
    "start_time": "2025-02-16T09:11:34.025Z"
   },
   {
    "duration": 11,
    "start_time": "2025-02-16T09:11:49.536Z"
   },
   {
    "duration": 11,
    "start_time": "2025-02-16T09:13:13.612Z"
   },
   {
    "duration": 11,
    "start_time": "2025-02-16T09:13:21.090Z"
   },
   {
    "duration": 7,
    "start_time": "2025-02-16T09:13:48.584Z"
   },
   {
    "duration": 4,
    "start_time": "2025-02-16T09:14:20.488Z"
   },
   {
    "duration": 3,
    "start_time": "2025-02-16T09:14:26.655Z"
   },
   {
    "duration": 3,
    "start_time": "2025-02-16T09:14:32.546Z"
   },
   {
    "duration": 4,
    "start_time": "2025-02-16T09:14:37.483Z"
   },
   {
    "duration": 2534,
    "start_time": "2025-02-16T09:14:45.117Z"
   },
   {
    "duration": 1459,
    "start_time": "2025-02-16T09:14:47.654Z"
   },
   {
    "duration": 2,
    "start_time": "2025-02-16T09:14:49.115Z"
   },
   {
    "duration": 868,
    "start_time": "2025-02-16T09:14:49.119Z"
   },
   {
    "duration": 12,
    "start_time": "2025-02-16T09:14:49.989Z"
   },
   {
    "duration": 22,
    "start_time": "2025-02-16T09:14:50.002Z"
   },
   {
    "duration": 4,
    "start_time": "2025-02-16T09:14:50.026Z"
   },
   {
    "duration": 36,
    "start_time": "2025-02-16T09:14:50.032Z"
   },
   {
    "duration": 91,
    "start_time": "2025-02-16T09:14:50.069Z"
   },
   {
    "duration": 7,
    "start_time": "2025-02-16T09:14:50.163Z"
   },
   {
    "duration": 116,
    "start_time": "2025-02-16T09:14:50.171Z"
   },
   {
    "duration": 137,
    "start_time": "2025-02-16T09:14:50.289Z"
   },
   {
    "duration": 120,
    "start_time": "2025-02-16T09:14:50.427Z"
   },
   {
    "duration": 139,
    "start_time": "2025-02-16T09:14:50.552Z"
   },
   {
    "duration": 28,
    "start_time": "2025-02-16T09:14:50.693Z"
   },
   {
    "duration": 53,
    "start_time": "2025-02-16T09:14:50.723Z"
   },
   {
    "duration": 29,
    "start_time": "2025-02-16T09:14:50.777Z"
   },
   {
    "duration": 37,
    "start_time": "2025-02-16T09:14:50.808Z"
   },
   {
    "duration": 52,
    "start_time": "2025-02-16T09:14:50.847Z"
   },
   {
    "duration": 35,
    "start_time": "2025-02-16T09:14:50.901Z"
   },
   {
    "duration": 502,
    "start_time": "2025-02-16T09:14:50.938Z"
   },
   {
    "duration": 2,
    "start_time": "2025-02-16T09:14:51.442Z"
   },
   {
    "duration": 54,
    "start_time": "2025-02-16T09:14:51.446Z"
   },
   {
    "duration": 1034,
    "start_time": "2025-02-16T09:14:51.502Z"
   },
   {
    "duration": 775,
    "start_time": "2025-02-16T09:14:52.537Z"
   },
   {
    "duration": 41,
    "start_time": "2025-02-16T09:14:53.314Z"
   },
   {
    "duration": 1048,
    "start_time": "2025-02-16T09:14:53.356Z"
   },
   {
    "duration": 796,
    "start_time": "2025-02-16T09:14:54.405Z"
   },
   {
    "duration": 38,
    "start_time": "2025-02-16T09:14:55.203Z"
   },
   {
    "duration": 959,
    "start_time": "2025-02-16T09:14:55.242Z"
   },
   {
    "duration": 889,
    "start_time": "2025-02-16T09:14:56.203Z"
   },
   {
    "duration": 29,
    "start_time": "2025-02-16T09:14:57.098Z"
   },
   {
    "duration": 3,
    "start_time": "2025-02-16T09:14:57.129Z"
   },
   {
    "duration": 171,
    "start_time": "2025-02-16T09:14:57.133Z"
   },
   {
    "duration": 193,
    "start_time": "2025-02-16T09:14:57.307Z"
   },
   {
    "duration": 3,
    "start_time": "2025-02-16T09:14:57.502Z"
   },
   {
    "duration": 5,
    "start_time": "2025-02-16T09:14:57.507Z"
   },
   {
    "duration": 8,
    "start_time": "2025-02-16T09:14:57.513Z"
   },
   {
    "duration": 3,
    "start_time": "2025-02-16T09:14:57.523Z"
   },
   {
    "duration": 4,
    "start_time": "2025-02-16T09:15:07.303Z"
   },
   {
    "duration": 10,
    "start_time": "2025-02-16T09:17:58.334Z"
   },
   {
    "duration": 1146,
    "start_time": "2025-02-16T09:18:51.931Z"
   },
   {
    "duration": 1235,
    "start_time": "2025-02-16T09:19:42.679Z"
   },
   {
    "duration": 11,
    "start_time": "2025-02-16T09:21:04.366Z"
   },
   {
    "duration": 10,
    "start_time": "2025-02-16T09:23:03.638Z"
   },
   {
    "duration": 2869,
    "start_time": "2025-02-16T09:23:57.768Z"
   },
   {
    "duration": 1700,
    "start_time": "2025-02-16T09:24:00.640Z"
   },
   {
    "duration": 2,
    "start_time": "2025-02-16T09:24:02.342Z"
   },
   {
    "duration": 1039,
    "start_time": "2025-02-16T09:24:02.346Z"
   },
   {
    "duration": 2,
    "start_time": "2025-02-16T09:24:03.388Z"
   },
   {
    "duration": 87,
    "start_time": "2025-02-16T09:24:03.403Z"
   },
   {
    "duration": 12,
    "start_time": "2025-02-16T09:24:03.492Z"
   },
   {
    "duration": 38,
    "start_time": "2025-02-16T09:24:03.507Z"
   },
   {
    "duration": 125,
    "start_time": "2025-02-16T09:24:03.547Z"
   },
   {
    "duration": 27,
    "start_time": "2025-02-16T09:24:03.674Z"
   },
   {
    "duration": 9,
    "start_time": "2025-02-16T09:24:03.705Z"
   },
   {
    "duration": 148,
    "start_time": "2025-02-16T09:24:03.716Z"
   },
   {
    "duration": 157,
    "start_time": "2025-02-16T09:24:03.866Z"
   },
   {
    "duration": 136,
    "start_time": "2025-02-16T09:24:04.026Z"
   },
   {
    "duration": 42,
    "start_time": "2025-02-16T09:24:04.164Z"
   },
   {
    "duration": 139,
    "start_time": "2025-02-16T09:24:04.209Z"
   },
   {
    "duration": 29,
    "start_time": "2025-02-16T09:24:04.350Z"
   },
   {
    "duration": 50,
    "start_time": "2025-02-16T09:24:04.381Z"
   },
   {
    "duration": 36,
    "start_time": "2025-02-16T09:24:04.433Z"
   },
   {
    "duration": 56,
    "start_time": "2025-02-16T09:24:04.471Z"
   },
   {
    "duration": 548,
    "start_time": "2025-02-16T09:24:04.529Z"
   },
   {
    "duration": 2,
    "start_time": "2025-02-16T09:24:05.079Z"
   },
   {
    "duration": 61,
    "start_time": "2025-02-16T09:24:05.083Z"
   },
   {
    "duration": 1104,
    "start_time": "2025-02-16T09:24:05.145Z"
   },
   {
    "duration": 875,
    "start_time": "2025-02-16T09:24:06.251Z"
   },
   {
    "duration": 43,
    "start_time": "2025-02-16T09:24:07.129Z"
   },
   {
    "duration": 1069,
    "start_time": "2025-02-16T09:24:07.174Z"
   },
   {
    "duration": 889,
    "start_time": "2025-02-16T09:24:08.245Z"
   },
   {
    "duration": 39,
    "start_time": "2025-02-16T09:24:09.136Z"
   },
   {
    "duration": 1035,
    "start_time": "2025-02-16T09:24:09.176Z"
   },
   {
    "duration": 1011,
    "start_time": "2025-02-16T09:24:10.215Z"
   },
   {
    "duration": 31,
    "start_time": "2025-02-16T09:24:11.228Z"
   },
   {
    "duration": 4,
    "start_time": "2025-02-16T09:24:11.262Z"
   },
   {
    "duration": 234,
    "start_time": "2025-02-16T09:24:11.268Z"
   },
   {
    "duration": 99,
    "start_time": "2025-02-16T09:24:11.505Z"
   },
   {
    "duration": 9,
    "start_time": "2025-02-16T09:24:11.607Z"
   },
   {
    "duration": 20,
    "start_time": "2025-02-16T09:24:11.618Z"
   },
   {
    "duration": 95,
    "start_time": "2025-02-16T09:24:11.640Z"
   },
   {
    "duration": 129,
    "start_time": "2025-02-16T09:44:39.851Z"
   },
   {
    "duration": 10,
    "start_time": "2025-02-16T09:44:55.445Z"
   },
   {
    "duration": 9,
    "start_time": "2025-02-16T09:45:01.755Z"
   },
   {
    "duration": 9,
    "start_time": "2025-02-16T09:45:07.942Z"
   },
   {
    "duration": 9,
    "start_time": "2025-02-16T09:46:23.554Z"
   },
   {
    "duration": 11,
    "start_time": "2025-02-16T09:46:34.806Z"
   },
   {
    "duration": 4,
    "start_time": "2025-02-16T09:47:16.062Z"
   },
   {
    "duration": 18,
    "start_time": "2025-02-16T09:47:33.895Z"
   },
   {
    "duration": 8,
    "start_time": "2025-02-16T09:47:55.713Z"
   },
   {
    "duration": 8,
    "start_time": "2025-02-16T09:48:02.451Z"
   },
   {
    "duration": 14,
    "start_time": "2025-02-16T09:49:15.662Z"
   },
   {
    "duration": 5,
    "start_time": "2025-02-16T09:54:02.221Z"
   },
   {
    "duration": 13,
    "start_time": "2025-02-16T09:54:02.672Z"
   },
   {
    "duration": 3,
    "start_time": "2025-02-16T09:54:06.437Z"
   },
   {
    "duration": 14,
    "start_time": "2025-02-16T09:54:06.806Z"
   },
   {
    "duration": 3,
    "start_time": "2025-02-16T09:55:51.971Z"
   },
   {
    "duration": 4,
    "start_time": "2025-02-16T10:08:26.658Z"
   },
   {
    "duration": 21,
    "start_time": "2025-02-16T10:09:16.919Z"
   },
   {
    "duration": 21,
    "start_time": "2025-02-16T10:09:40.261Z"
   },
   {
    "duration": 20,
    "start_time": "2025-02-16T10:09:58.169Z"
   },
   {
    "duration": 5,
    "start_time": "2025-02-16T10:13:03.402Z"
   },
   {
    "duration": 21,
    "start_time": "2025-02-16T10:13:04.564Z"
   },
   {
    "duration": 14,
    "start_time": "2025-02-16T10:13:18.667Z"
   },
   {
    "duration": 6,
    "start_time": "2025-02-16T10:14:10.111Z"
   },
   {
    "duration": 26,
    "start_time": "2025-02-16T10:14:10.452Z"
   },
   {
    "duration": 5,
    "start_time": "2025-02-16T10:15:39.007Z"
   },
   {
    "duration": 70,
    "start_time": "2025-02-16T10:15:39.308Z"
   },
   {
    "duration": 64,
    "start_time": "2025-02-16T10:16:38.464Z"
   },
   {
    "duration": 130,
    "start_time": "2025-02-16T10:17:01.357Z"
   },
   {
    "duration": 317,
    "start_time": "2025-02-16T10:17:38.072Z"
   },
   {
    "duration": 327,
    "start_time": "2025-02-16T10:17:51.157Z"
   },
   {
    "duration": 17,
    "start_time": "2025-02-16T10:23:28.093Z"
   },
   {
    "duration": 124,
    "start_time": "2025-02-16T10:24:05.734Z"
   },
   {
    "duration": 172,
    "start_time": "2025-02-16T10:24:18.755Z"
   },
   {
    "duration": 11,
    "start_time": "2025-02-16T10:31:05.185Z"
   },
   {
    "duration": 63,
    "start_time": "2025-02-16T10:33:23.180Z"
   },
   {
    "duration": 65,
    "start_time": "2025-02-16T10:33:39.388Z"
   },
   {
    "duration": 59,
    "start_time": "2025-02-16T10:33:48.583Z"
   },
   {
    "duration": 13,
    "start_time": "2025-02-16T10:33:54.977Z"
   },
   {
    "duration": 65,
    "start_time": "2025-02-16T10:34:18.707Z"
   },
   {
    "duration": 7,
    "start_time": "2025-02-16T10:36:03.447Z"
   },
   {
    "duration": 60,
    "start_time": "2025-02-16T10:36:03.763Z"
   },
   {
    "duration": 4,
    "start_time": "2025-02-16T10:36:11.854Z"
   },
   {
    "duration": 4,
    "start_time": "2025-02-16T10:36:35.324Z"
   },
   {
    "duration": 4,
    "start_time": "2025-02-16T10:36:35.793Z"
   },
   {
    "duration": 4,
    "start_time": "2025-02-16T10:36:36.204Z"
   },
   {
    "duration": 4,
    "start_time": "2025-02-16T10:36:36.612Z"
   },
   {
    "duration": 5,
    "start_time": "2025-02-16T10:37:20.004Z"
   },
   {
    "duration": 16,
    "start_time": "2025-02-16T10:37:20.854Z"
   },
   {
    "duration": 6,
    "start_time": "2025-02-16T10:37:26.748Z"
   },
   {
    "duration": 61,
    "start_time": "2025-02-16T10:37:27.344Z"
   },
   {
    "duration": 9,
    "start_time": "2025-02-16T10:38:43.983Z"
   },
   {
    "duration": 59,
    "start_time": "2025-02-16T10:38:44.426Z"
   },
   {
    "duration": 3,
    "start_time": "2025-02-16T10:38:44.932Z"
   },
   {
    "duration": 4,
    "start_time": "2025-02-16T10:38:45.594Z"
   },
   {
    "duration": 5,
    "start_time": "2025-02-16T10:38:46.116Z"
   },
   {
    "duration": 4,
    "start_time": "2025-02-16T10:38:46.673Z"
   },
   {
    "duration": 6,
    "start_time": "2025-02-16T10:39:33.177Z"
   },
   {
    "duration": 60,
    "start_time": "2025-02-16T10:39:33.851Z"
   },
   {
    "duration": 4,
    "start_time": "2025-02-16T10:39:34.250Z"
   },
   {
    "duration": 3,
    "start_time": "2025-02-16T10:39:34.691Z"
   },
   {
    "duration": 5,
    "start_time": "2025-02-16T10:39:34.897Z"
   },
   {
    "duration": 4,
    "start_time": "2025-02-16T10:39:35.093Z"
   },
   {
    "duration": 2754,
    "start_time": "2025-02-16T10:40:11.805Z"
   },
   {
    "duration": 1611,
    "start_time": "2025-02-16T10:40:14.561Z"
   },
   {
    "duration": 3,
    "start_time": "2025-02-16T10:40:16.173Z"
   },
   {
    "duration": 1126,
    "start_time": "2025-02-16T10:40:16.178Z"
   },
   {
    "duration": 2,
    "start_time": "2025-02-16T10:40:17.306Z"
   },
   {
    "duration": 5,
    "start_time": "2025-02-16T10:40:17.310Z"
   },
   {
    "duration": 9,
    "start_time": "2025-02-16T10:40:17.317Z"
   },
   {
    "duration": 31,
    "start_time": "2025-02-16T10:40:17.328Z"
   },
   {
    "duration": 116,
    "start_time": "2025-02-16T10:40:17.360Z"
   },
   {
    "duration": 26,
    "start_time": "2025-02-16T10:40:17.477Z"
   },
   {
    "duration": 3,
    "start_time": "2025-02-16T10:40:17.505Z"
   },
   {
    "duration": 134,
    "start_time": "2025-02-16T10:40:17.510Z"
   },
   {
    "duration": 112,
    "start_time": "2025-02-16T10:40:17.646Z"
   },
   {
    "duration": 126,
    "start_time": "2025-02-16T10:40:17.762Z"
   },
   {
    "duration": 29,
    "start_time": "2025-02-16T10:40:17.890Z"
   },
   {
    "duration": 28,
    "start_time": "2025-02-16T10:40:17.921Z"
   },
   {
    "duration": 51,
    "start_time": "2025-02-16T10:40:17.950Z"
   },
   {
    "duration": 36,
    "start_time": "2025-02-16T10:40:18.003Z"
   },
   {
    "duration": 34,
    "start_time": "2025-02-16T10:40:18.040Z"
   },
   {
    "duration": 53,
    "start_time": "2025-02-16T10:40:18.076Z"
   },
   {
    "duration": 511,
    "start_time": "2025-02-16T10:40:18.131Z"
   },
   {
    "duration": 2,
    "start_time": "2025-02-16T10:40:18.644Z"
   },
   {
    "duration": 117,
    "start_time": "2025-02-16T10:40:18.648Z"
   },
   {
    "duration": 1013,
    "start_time": "2025-02-16T10:40:18.766Z"
   },
   {
    "duration": 825,
    "start_time": "2025-02-16T10:40:19.781Z"
   },
   {
    "duration": 43,
    "start_time": "2025-02-16T10:40:20.608Z"
   },
   {
    "duration": 1019,
    "start_time": "2025-02-16T10:40:20.652Z"
   },
   {
    "duration": 817,
    "start_time": "2025-02-16T10:40:21.673Z"
   },
   {
    "duration": 46,
    "start_time": "2025-02-16T10:40:22.492Z"
   },
   {
    "duration": 948,
    "start_time": "2025-02-16T10:40:22.540Z"
   },
   {
    "duration": 931,
    "start_time": "2025-02-16T10:40:23.490Z"
   },
   {
    "duration": 30,
    "start_time": "2025-02-16T10:40:24.423Z"
   },
   {
    "duration": 85,
    "start_time": "2025-02-16T10:40:24.455Z"
   },
   {
    "duration": 165,
    "start_time": "2025-02-16T10:40:24.541Z"
   },
   {
    "duration": 93,
    "start_time": "2025-02-16T10:40:24.709Z"
   },
   {
    "duration": 93,
    "start_time": "2025-02-16T10:40:24.805Z"
   },
   {
    "duration": 4,
    "start_time": "2025-02-16T10:40:24.900Z"
   },
   {
    "duration": 4,
    "start_time": "2025-02-16T10:40:24.906Z"
   },
   {
    "duration": 17,
    "start_time": "2025-02-16T10:40:24.912Z"
   },
   {
    "duration": 5,
    "start_time": "2025-02-16T10:40:24.931Z"
   },
   {
    "duration": 89,
    "start_time": "2025-02-16T10:40:24.940Z"
   },
   {
    "duration": 5,
    "start_time": "2025-02-16T10:40:25.031Z"
   },
   {
    "duration": 9,
    "start_time": "2025-02-16T10:40:25.038Z"
   },
   {
    "duration": 17,
    "start_time": "2025-02-16T10:40:25.049Z"
   },
   {
    "duration": 9,
    "start_time": "2025-02-16T10:40:25.068Z"
   },
   {
    "duration": 175,
    "start_time": "2025-02-16T10:41:05.033Z"
   },
   {
    "duration": 4,
    "start_time": "2025-02-16T10:41:05.464Z"
   },
   {
    "duration": 4,
    "start_time": "2025-02-16T10:41:06.103Z"
   },
   {
    "duration": 5,
    "start_time": "2025-02-16T10:41:06.577Z"
   },
   {
    "duration": 4,
    "start_time": "2025-02-16T10:41:07.063Z"
   },
   {
    "duration": 4,
    "start_time": "2025-02-16T10:42:15.829Z"
   },
   {
    "duration": 4,
    "start_time": "2025-02-16T10:42:15.982Z"
   },
   {
    "duration": 4,
    "start_time": "2025-02-16T10:42:16.131Z"
   },
   {
    "duration": 4,
    "start_time": "2025-02-16T10:42:16.299Z"
   },
   {
    "duration": 4,
    "start_time": "2025-02-16T10:43:26.446Z"
   },
   {
    "duration": 4,
    "start_time": "2025-02-16T10:43:26.771Z"
   },
   {
    "duration": 3,
    "start_time": "2025-02-16T10:43:42.106Z"
   },
   {
    "duration": 4,
    "start_time": "2025-02-16T10:43:42.419Z"
   },
   {
    "duration": 4,
    "start_time": "2025-02-16T10:43:56.180Z"
   },
   {
    "duration": 4,
    "start_time": "2025-02-16T10:43:56.574Z"
   },
   {
    "duration": 4,
    "start_time": "2025-02-16T10:44:05.400Z"
   },
   {
    "duration": 4,
    "start_time": "2025-02-16T10:44:05.750Z"
   },
   {
    "duration": 4,
    "start_time": "2025-02-16T10:44:54.750Z"
   },
   {
    "duration": 4,
    "start_time": "2025-02-16T10:46:36.664Z"
   },
   {
    "duration": 3,
    "start_time": "2025-02-16T10:46:46.117Z"
   },
   {
    "duration": 3,
    "start_time": "2025-02-16T10:46:57.308Z"
   },
   {
    "duration": 3,
    "start_time": "2025-02-16T10:47:07.654Z"
   },
   {
    "duration": 3,
    "start_time": "2025-02-16T10:47:14.663Z"
   },
   {
    "duration": 3,
    "start_time": "2025-02-16T10:47:28.507Z"
   },
   {
    "duration": 5,
    "start_time": "2025-02-16T10:47:52.489Z"
   },
   {
    "duration": 4,
    "start_time": "2025-02-16T10:48:20.963Z"
   },
   {
    "duration": 5,
    "start_time": "2025-02-16T10:55:55.682Z"
   },
   {
    "duration": 172,
    "start_time": "2025-02-16T10:55:56.053Z"
   },
   {
    "duration": 4,
    "start_time": "2025-02-16T10:55:56.509Z"
   },
   {
    "duration": 2664,
    "start_time": "2025-02-16T10:56:09.140Z"
   },
   {
    "duration": 1556,
    "start_time": "2025-02-16T10:56:11.806Z"
   },
   {
    "duration": 3,
    "start_time": "2025-02-16T10:56:13.364Z"
   },
   {
    "duration": 925,
    "start_time": "2025-02-16T10:56:13.369Z"
   },
   {
    "duration": 3,
    "start_time": "2025-02-16T10:56:14.298Z"
   },
   {
    "duration": 28,
    "start_time": "2025-02-16T10:56:14.303Z"
   },
   {
    "duration": 4,
    "start_time": "2025-02-16T10:56:14.333Z"
   },
   {
    "duration": 35,
    "start_time": "2025-02-16T10:56:14.339Z"
   },
   {
    "duration": 95,
    "start_time": "2025-02-16T10:56:14.376Z"
   },
   {
    "duration": 27,
    "start_time": "2025-02-16T10:56:14.473Z"
   },
   {
    "duration": 68,
    "start_time": "2025-02-16T10:56:14.502Z"
   },
   {
    "duration": 138,
    "start_time": "2025-02-16T10:56:14.572Z"
   },
   {
    "duration": 108,
    "start_time": "2025-02-16T10:56:14.711Z"
   },
   {
    "duration": 113,
    "start_time": "2025-02-16T10:56:14.823Z"
   },
   {
    "duration": 24,
    "start_time": "2025-02-16T10:56:14.938Z"
   },
   {
    "duration": 42,
    "start_time": "2025-02-16T10:56:14.964Z"
   },
   {
    "duration": 29,
    "start_time": "2025-02-16T10:56:15.008Z"
   },
   {
    "duration": 44,
    "start_time": "2025-02-16T10:56:15.039Z"
   },
   {
    "duration": 45,
    "start_time": "2025-02-16T10:56:15.084Z"
   },
   {
    "duration": 74,
    "start_time": "2025-02-16T10:56:15.131Z"
   },
   {
    "duration": 498,
    "start_time": "2025-02-16T10:56:15.207Z"
   },
   {
    "duration": 3,
    "start_time": "2025-02-16T10:56:15.707Z"
   },
   {
    "duration": 94,
    "start_time": "2025-02-16T10:56:15.711Z"
   },
   {
    "duration": 1027,
    "start_time": "2025-02-16T10:56:15.806Z"
   },
   {
    "duration": 757,
    "start_time": "2025-02-16T10:56:16.835Z"
   },
   {
    "duration": 42,
    "start_time": "2025-02-16T10:56:17.598Z"
   },
   {
    "duration": 945,
    "start_time": "2025-02-16T10:56:17.641Z"
   },
   {
    "duration": 801,
    "start_time": "2025-02-16T10:56:18.588Z"
   },
   {
    "duration": 43,
    "start_time": "2025-02-16T10:56:19.391Z"
   },
   {
    "duration": 914,
    "start_time": "2025-02-16T10:56:19.436Z"
   },
   {
    "duration": 950,
    "start_time": "2025-02-16T10:56:20.352Z"
   },
   {
    "duration": 29,
    "start_time": "2025-02-16T10:56:21.304Z"
   },
   {
    "duration": 3,
    "start_time": "2025-02-16T10:56:21.335Z"
   },
   {
    "duration": 262,
    "start_time": "2025-02-16T10:56:21.339Z"
   },
   {
    "duration": 98,
    "start_time": "2025-02-16T10:56:21.603Z"
   },
   {
    "duration": 14,
    "start_time": "2025-02-16T10:56:21.704Z"
   },
   {
    "duration": 105,
    "start_time": "2025-02-16T10:56:21.721Z"
   },
   {
    "duration": 10,
    "start_time": "2025-02-16T10:56:21.828Z"
   },
   {
    "duration": 27,
    "start_time": "2025-02-16T10:56:21.840Z"
   },
   {
    "duration": 5,
    "start_time": "2025-02-16T10:56:21.869Z"
   },
   {
    "duration": 168,
    "start_time": "2025-02-16T10:56:21.877Z"
   },
   {
    "duration": 4,
    "start_time": "2025-02-16T10:56:22.047Z"
   }
  ],
  "kernelspec": {
   "display_name": "Python 3 (ipykernel)",
   "language": "python",
   "name": "python3"
  },
  "language_info": {
   "codemirror_mode": {
    "name": "ipython",
    "version": 3
   },
   "file_extension": ".py",
   "mimetype": "text/x-python",
   "name": "python",
   "nbconvert_exporter": "python",
   "pygments_lexer": "ipython3",
   "version": "3.9.5"
  },
  "toc": {
   "base_numbering": 1,
   "nav_menu": {},
   "number_sections": true,
   "sideBar": true,
   "skip_h1_title": true,
   "title_cell": "Table of Contents",
   "title_sidebar": "Contents",
   "toc_cell": false,
   "toc_position": {},
   "toc_section_display": true,
   "toc_window_display": false
  }
 },
 "nbformat": 4,
 "nbformat_minor": 2
}
